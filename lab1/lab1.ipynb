{
  "cells": [
    {
      "cell_type": "markdown",
      "metadata": {
        "id": "lmmdKVXvCaYO"
      },
      "source": [
        "# 深度学习平台课程实验教程\n",
        "\n",
        "## PyTorch入门\n",
        "\n",
        "**目标**\n",
        "通过本次实验，你将掌握以下内容：\n",
        "\n",
        "1. PyTorch 框架的核心组件（张量、自动求导、神经网络模块）。\n",
        "2. 基础张量操作与API的使用。\n",
        "3. 使用张量操作和梯度下降法实现线性回归模型\n",
        "\n",
        "------\n",
        "\n",
        "### **1. 环境准备**\n",
        "\n",
        "确保已安装 PyTorch（本节推荐使用最新版本，后续章节按需要选择合适版本）：\n",
        "\n",
        "#### 使用 conda 安装（需提前安装 Anaconda）\n",
        "conda install pytorch torchvision torchaudio -c pytorch\n",
        "\n",
        "#### 或使用 pip 安装（根据CUDA版本选择）\n",
        "pip install torch torchvision"
      ]
    },
    {
      "cell_type": "markdown",
      "metadata": {
        "id": "GDVeqjJJCaYR"
      },
      "source": [
        "\n",
        "### **2. 数据操作**\n",
        "首先，我们导入 torch。请注意，虽然它被称为PyTorch，但我们应该导入 torch 而不是 pytorch"
      ]
    },
    {
      "cell_type": "code",
      "execution_count": null,
      "metadata": {
        "colab": {
          "base_uri": "https://localhost:8080/"
        },
        "id": "lyHQ73LfCaYR",
        "outputId": "d82ce66e-334e-4502-ab9f-96f4c4cfcf5a"
      },
      "outputs": [
        {
          "name": "stdout",
          "output_type": "stream",
          "text": [
            "2.5.1+cu124\n"
          ]
        }
      ],
      "source": [
        "\n",
        "import torch\n",
        "\n",
        "print(torch.__version__)"
      ]
    },
    {
      "cell_type": "markdown",
      "metadata": {
        "id": "5I9bsYzjCaYS"
      },
      "source": [
        "张量表示由一个数值组成的数组，这个数组可能有多个维度;\n",
        "可以通过张量的 shape 属性来访问张量的形状 和张量中元素的总数"
      ]
    },
    {
      "cell_type": "code",
      "execution_count": null,
      "metadata": {
        "colab": {
          "base_uri": "https://localhost:8080/"
        },
        "id": "6Z5X1NF4CaYT",
        "outputId": "57a85bf2-2211-4b3a-f2e3-83ddb4547683"
      },
      "outputs": [
        {
          "name": "stdout",
          "output_type": "stream",
          "text": [
            "tensor([ 0,  1,  2,  3,  4,  5,  6,  7,  8,  9, 10, 11])\n",
            "torch.Size([12])\n",
            "12\n"
          ]
        }
      ],
      "source": [
        "x = torch.arange(12)\n",
        "print(x)\n",
        "print(x.shape)\n",
        "print(x.numel())"
      ]
    },
    {
      "cell_type": "markdown",
      "metadata": {
        "id": "alDn6ge-CaYU"
      },
      "source": [
        "要改变一个张量的形状而不改变元素数量和元素值，可以调用 reshape 函数"
      ]
    },
    {
      "cell_type": "code",
      "execution_count": null,
      "metadata": {
        "colab": {
          "base_uri": "https://localhost:8080/"
        },
        "id": "S72GETi6CaYV",
        "outputId": "14d19a47-aaf7-470d-9168-9e11fafc52b2"
      },
      "outputs": [
        {
          "name": "stdout",
          "output_type": "stream",
          "text": [
            "tensor([[ 0,  1,  2,  3],\n",
            "        [ 4,  5,  6,  7],\n",
            "        [ 8,  9, 10, 11]])\n"
          ]
        }
      ],
      "source": [
        "X = x.reshape(3, 4)\n",
        "print(X)"
      ]
    },
    {
      "cell_type": "markdown",
      "metadata": {
        "id": "gdeW7Cl0CaYV"
      },
      "source": [
        "使用全0、全1、其他常量或者从特定分布中随机采样的数字"
      ]
    },
    {
      "cell_type": "code",
      "execution_count": null,
      "metadata": {
        "colab": {
          "base_uri": "https://localhost:8080/"
        },
        "id": "nmYhqwwACaYW",
        "outputId": "b80713b4-55be-477d-9bf5-0f42a458666a"
      },
      "outputs": [
        {
          "name": "stdout",
          "output_type": "stream",
          "text": [
            "tensor([[[0., 0., 0., 0.],\n",
            "         [0., 0., 0., 0.],\n",
            "         [0., 0., 0., 0.]],\n",
            "\n",
            "        [[0., 0., 0., 0.],\n",
            "         [0., 0., 0., 0.],\n",
            "         [0., 0., 0., 0.]]])\n",
            "tensor([[[1., 1., 1., 1.],\n",
            "         [1., 1., 1., 1.],\n",
            "         [1., 1., 1., 1.]],\n",
            "\n",
            "        [[1., 1., 1., 1.],\n",
            "         [1., 1., 1., 1.],\n",
            "         [1., 1., 1., 1.]]])\n",
            "tensor([[ 0.3343,  1.4316, -0.8722, -0.6937],\n",
            "        [ 0.4244,  0.0950,  1.9658,  1.1385],\n",
            "        [ 1.2372, -2.0974,  0.1482, -0.2851]])\n"
          ]
        }
      ],
      "source": [
        "print(torch.zeros((2, 3, 4)))\n",
        "print(torch.ones((2, 3, 4)))\n",
        "print(torch.randn(3, 4))"
      ]
    },
    {
      "cell_type": "markdown",
      "metadata": {
        "id": "W8zBJ-c4CaYX"
      },
      "source": [
        "通过提供包含数值的 Python 列表（或嵌套列表）来为所需张量中的每个元素赋予确定值"
      ]
    },
    {
      "cell_type": "code",
      "execution_count": null,
      "metadata": {
        "colab": {
          "base_uri": "https://localhost:8080/"
        },
        "id": "xXghDvuACaYX",
        "outputId": "d98f176e-b596-4d50-8de8-4dd30174797a"
      },
      "outputs": [
        {
          "data": {
            "text/plain": [
              "tensor([[2, 1, 4, 3],\n",
              "        [1, 2, 3, 4],\n",
              "        [4, 3, 2, 1]])"
            ]
          },
          "execution_count": 5,
          "metadata": {},
          "output_type": "execute_result"
        }
      ],
      "source": [
        "torch.tensor([[2, 1, 4, 3], [1, 2, 3, 4], [4, 3, 2, 1]])"
      ]
    },
    {
      "cell_type": "markdown",
      "metadata": {
        "id": "fCFTKLv5CaYY"
      },
      "source": [
        "常见的标准算术运算符（+、-、*、/ 和 **）都可以被升级为按元素运算"
      ]
    },
    {
      "cell_type": "code",
      "execution_count": null,
      "metadata": {
        "colab": {
          "base_uri": "https://localhost:8080/"
        },
        "id": "dXm1hCP8CaYZ",
        "outputId": "392e2601-e02f-4e1c-9d6e-099333cac68e"
      },
      "outputs": [
        {
          "data": {
            "text/plain": [
              "(tensor([ 3.,  4.,  6., 10.]),\n",
              " tensor([-1.,  0.,  2.,  6.]),\n",
              " tensor([ 2.,  4.,  8., 16.]),\n",
              " tensor([0.5000, 1.0000, 2.0000, 4.0000]),\n",
              " tensor([ 1.,  4., 16., 64.]))"
            ]
          },
          "execution_count": 6,
          "metadata": {},
          "output_type": "execute_result"
        }
      ],
      "source": [
        "x = torch.tensor([1.0, 2, 4, 8])\n",
        "y = torch.tensor([2, 2, 2, 2])\n",
        "x + y, x - y, x * y, x / y, x**y"
      ]
    },
    {
      "cell_type": "markdown",
      "metadata": {
        "id": "zFEBrgFICaYZ"
      },
      "source": [
        "我们也可以把多个张量 连结（concatenate） 在一起"
      ]
    },
    {
      "cell_type": "code",
      "execution_count": null,
      "metadata": {
        "colab": {
          "base_uri": "https://localhost:8080/"
        },
        "id": "mJ4lpyw9CaYZ",
        "outputId": "e93df557-4cba-485f-89fd-2287cf86c8f2"
      },
      "outputs": [
        {
          "data": {
            "text/plain": [
              "(tensor([[ 0.,  1.,  2.,  3.],\n",
              "         [ 4.,  5.,  6.,  7.],\n",
              "         [ 8.,  9., 10., 11.],\n",
              "         [ 2.,  1.,  4.,  3.],\n",
              "         [ 1.,  2.,  3.,  4.],\n",
              "         [ 4.,  3.,  2.,  1.]]),\n",
              " tensor([[ 0.,  1.,  2.,  3.,  2.,  1.,  4.,  3.],\n",
              "         [ 4.,  5.,  6.,  7.,  1.,  2.,  3.,  4.],\n",
              "         [ 8.,  9., 10., 11.,  4.,  3.,  2.,  1.]]))"
            ]
          },
          "execution_count": 7,
          "metadata": {},
          "output_type": "execute_result"
        }
      ],
      "source": [
        "X = torch.arange(12, dtype=torch.float32).reshape((3, 4))\n",
        "Y = torch.tensor([[2.0, 1, 4, 3], [1, 2, 3, 4], [4, 3, 2, 1]])\n",
        "torch.cat((X, Y), dim=0), torch.cat((X, Y), dim=1)"
      ]
    },
    {
      "cell_type": "markdown",
      "metadata": {
        "id": "qkeP_j5VCaYZ"
      },
      "source": [
        "通过 逻辑运算符 构建二元张量"
      ]
    },
    {
      "cell_type": "code",
      "execution_count": null,
      "metadata": {
        "colab": {
          "base_uri": "https://localhost:8080/"
        },
        "id": "mqkvLqelCaYa",
        "outputId": "da08cbd6-d4fa-4fd8-a7e7-98162d86a3ef"
      },
      "outputs": [
        {
          "name": "stdout",
          "output_type": "stream",
          "text": [
            "tensor([[False,  True, False,  True],\n",
            "        [False, False, False, False],\n",
            "        [False, False, False, False]])\n"
          ]
        }
      ],
      "source": [
        "print(X == Y)"
      ]
    },
    {
      "cell_type": "markdown",
      "metadata": {
        "id": "09otnAN-CaYa"
      },
      "source": [
        "对张量中的所有元素进行求和会产生一个只有一个元素的张量"
      ]
    },
    {
      "cell_type": "code",
      "execution_count": null,
      "metadata": {
        "colab": {
          "base_uri": "https://localhost:8080/"
        },
        "id": "YmtPUV2_CaYa",
        "outputId": "51631047-caff-4acf-8639-577aa4b24968"
      },
      "outputs": [
        {
          "name": "stdout",
          "output_type": "stream",
          "text": [
            "tensor(66.)\n"
          ]
        }
      ],
      "source": [
        "print(X.sum())"
      ]
    },
    {
      "cell_type": "markdown",
      "metadata": {
        "id": "dBTosg8cCaYa"
      },
      "source": [
        "即使形状不同，我们仍然可以通过调用 广播机制 （broadcasting mechanism） 来执行按元素操作"
      ]
    },
    {
      "cell_type": "code",
      "execution_count": null,
      "metadata": {
        "colab": {
          "base_uri": "https://localhost:8080/"
        },
        "id": "3PaltimyCaYa",
        "outputId": "e488536a-a63a-49cd-e5b1-8ea18aafef3c"
      },
      "outputs": [
        {
          "name": "stdout",
          "output_type": "stream",
          "text": [
            "tensor([[0],\n",
            "        [1],\n",
            "        [2]]) tensor([[0, 1]])\n",
            "tensor([[0, 1],\n",
            "        [1, 2],\n",
            "        [2, 3]])\n"
          ]
        }
      ],
      "source": [
        "a = torch.arange(3).reshape((3, 1))\n",
        "b = torch.arange(2).reshape((1, 2))\n",
        "print(a, b)\n",
        "print(a + b)"
      ]
    },
    {
      "cell_type": "markdown",
      "metadata": {
        "id": "UA2nz53wCaYb"
      },
      "source": [
        "可以用 [-1] 选择最后一个元素，可以用 [1:3] 选择第二个和第三个元素"
      ]
    },
    {
      "cell_type": "code",
      "execution_count": null,
      "metadata": {
        "colab": {
          "base_uri": "https://localhost:8080/"
        },
        "id": "UCj9yrihCaYb",
        "outputId": "021d56c7-66ab-4979-c31b-1591236fe12d"
      },
      "outputs": [
        {
          "name": "stdout",
          "output_type": "stream",
          "text": [
            "tensor([ 8.,  9., 10., 11.])\n",
            "tensor([[ 4.,  5.,  6.,  7.],\n",
            "        [ 8.,  9., 10., 11.]])\n"
          ]
        }
      ],
      "source": [
        "print(X[-1])\n",
        "print(X[1:3])"
      ]
    },
    {
      "cell_type": "markdown",
      "metadata": {
        "id": "5SIRJCIGCaYb"
      },
      "source": [
        "为多个元素赋值相同的值，我们只需要索引所有元素，然后为它们赋值"
      ]
    },
    {
      "cell_type": "code",
      "execution_count": null,
      "metadata": {
        "colab": {
          "base_uri": "https://localhost:8080/"
        },
        "id": "cyHWvSi9CaYb",
        "outputId": "deaddccd-36e5-4942-bd11-c55ab53b763c"
      },
      "outputs": [
        {
          "name": "stdout",
          "output_type": "stream",
          "text": [
            "tensor([[12., 12., 12., 12.],\n",
            "        [12., 12., 12., 12.],\n",
            "        [ 8.,  9., 10., 11.]])\n"
          ]
        }
      ],
      "source": [
        "X[0:2, :] = 12\n",
        "print(X)"
      ]
    },
    {
      "cell_type": "markdown",
      "metadata": {
        "id": "9ZyF3dHvCaYb"
      },
      "source": [
        "转换为 NumPy 张量"
      ]
    },
    {
      "cell_type": "code",
      "execution_count": null,
      "metadata": {
        "colab": {
          "base_uri": "https://localhost:8080/"
        },
        "id": "qifjTQJICaYb",
        "outputId": "d8961133-0d90-45c2-c55a-dff6cf3600b6"
      },
      "outputs": [
        {
          "name": "stdout",
          "output_type": "stream",
          "text": [
            "<class 'numpy.ndarray'> <class 'torch.Tensor'>\n"
          ]
        }
      ],
      "source": [
        "A = X.numpy()\n",
        "B = torch.tensor(A)\n",
        "print(type(A), type(B))"
      ]
    },
    {
      "cell_type": "markdown",
      "metadata": {
        "id": "uddn6L48CaYb"
      },
      "source": [
        "将大小为1的张量转换为 Python 标量"
      ]
    },
    {
      "cell_type": "code",
      "execution_count": null,
      "metadata": {
        "colab": {
          "base_uri": "https://localhost:8080/"
        },
        "id": "iTXohzCGCaYb",
        "outputId": "22961c36-a78e-4b1c-b982-8b893b12d256"
      },
      "outputs": [
        {
          "data": {
            "text/plain": [
              "(tensor([3.5000]), 3.5, 3.5, 3)"
            ]
          },
          "execution_count": 14,
          "metadata": {},
          "output_type": "execute_result"
        }
      ],
      "source": [
        "a = torch.tensor([3.5])\n",
        "a, a.item(), float(a), int(a)"
      ]
    },
    {
      "cell_type": "markdown",
      "metadata": {
        "id": "sRDSvWQ1CaYc"
      },
      "source": [
        "Tensor on GPU"
      ]
    },
    {
      "cell_type": "code",
      "execution_count": null,
      "metadata": {
        "id": "NXsG_qsaCaYc"
      },
      "outputs": [],
      "source": [
        "# 以下代码只有在PyTorch GPU版本上才会执行\n",
        "if torch.cuda.is_available():\n",
        "    device = torch.device(\"cuda\")          # GPU\n",
        "    y = torch.ones_like(x, device=device)  # 直接创建一个在GPU上的Tensor\n",
        "    x = x.to(device)                       # 等价于 .to(\"cuda\")\n",
        "    z = x + y\n",
        "    print(z)\n",
        "    print(z.to(\"cpu\", torch.double))       # to()还可以同时更改数据类型"
      ]
    },
    {
      "cell_type": "markdown",
      "metadata": {
        "id": "h3O1dAWyCaYc"
      },
      "source": [
        "### **3.自动求导**\n",
        "\n",
        "假设我们想对函数$$y=2x^⊤x$$\n",
        "关于列向量x求导\n"
      ]
    },
    {
      "cell_type": "code",
      "execution_count": null,
      "metadata": {
        "colab": {
          "base_uri": "https://localhost:8080/"
        },
        "id": "LVHjSrzqCaYc",
        "outputId": "c2bfd6a4-1ebc-4b36-bf3c-bb33c6d9b8c7"
      },
      "outputs": [
        {
          "name": "stdout",
          "output_type": "stream",
          "text": [
            "tensor([0., 1., 2., 3.])\n"
          ]
        }
      ],
      "source": [
        "import torch\n",
        "\n",
        "x = torch.arange(4.0)\n",
        "print(x)"
      ]
    },
    {
      "cell_type": "markdown",
      "metadata": {
        "id": "h62JIo4oCaYc"
      },
      "source": [
        "在我们计算y关于x的梯度之前，我们需要一个地方来存储梯度"
      ]
    },
    {
      "cell_type": "code",
      "execution_count": null,
      "metadata": {
        "colab": {
          "base_uri": "https://localhost:8080/"
        },
        "id": "O9JajnmhCaYc",
        "outputId": "5a24ae8a-eb7a-48e2-83f7-0ebce8b41cf3"
      },
      "outputs": [
        {
          "name": "stdout",
          "output_type": "stream",
          "text": [
            "None\n"
          ]
        }
      ],
      "source": [
        "x.requires_grad_(True)\n",
        "print(x.grad)"
      ]
    },
    {
      "cell_type": "markdown",
      "metadata": {
        "id": "8xT6E-DBCaYc"
      },
      "source": [
        "现在让我们计算y"
      ]
    },
    {
      "cell_type": "code",
      "execution_count": null,
      "metadata": {
        "colab": {
          "base_uri": "https://localhost:8080/"
        },
        "id": "0fGcPlzQCaYc",
        "outputId": "46480bb7-c64c-4981-f90a-ca06b7cb0a2c"
      },
      "outputs": [
        {
          "name": "stdout",
          "output_type": "stream",
          "text": [
            "tensor(28., grad_fn=<MulBackward0>)\n"
          ]
        }
      ],
      "source": [
        "y = 2 * torch.dot(x, x)\n",
        "print(y)"
      ]
    },
    {
      "cell_type": "markdown",
      "metadata": {
        "id": "W0pYgsB0CaYd"
      },
      "source": [
        "通过调用反向传播函数来自动计算y关于x每个分量的梯度"
      ]
    },
    {
      "cell_type": "code",
      "execution_count": null,
      "metadata": {
        "colab": {
          "base_uri": "https://localhost:8080/"
        },
        "id": "_SCA7vF3CaYd",
        "outputId": "7e02c0ae-ee02-4731-9988-de91a7e9dc53"
      },
      "outputs": [
        {
          "name": "stdout",
          "output_type": "stream",
          "text": [
            "tensor([ 0.,  4.,  8., 12.])\n",
            "tensor([True, True, True, True])\n"
          ]
        }
      ],
      "source": [
        "y.backward() #反向传播\n",
        "print(x.grad)\n",
        "print(x.grad == 4 * x)"
      ]
    },
    {
      "cell_type": "markdown",
      "metadata": {
        "id": "NgtyDdjeCaYk"
      },
      "source": [
        "现在让我们计算x的另一个函数"
      ]
    },
    {
      "cell_type": "code",
      "execution_count": null,
      "metadata": {
        "colab": {
          "base_uri": "https://localhost:8080/"
        },
        "id": "nuZXa-c9CaYl",
        "outputId": "c144ff3a-3700-4bde-85bd-760378afd387"
      },
      "outputs": [
        {
          "name": "stdout",
          "output_type": "stream",
          "text": [
            "tensor([1., 1., 1., 1.])\n"
          ]
        }
      ],
      "source": [
        "x.grad.zero_() #梯度清零\n",
        "y = x.sum()\n",
        "y.backward()\n",
        "print(x.grad)"
      ]
    },
    {
      "cell_type": "markdown",
      "metadata": {
        "id": "nbfa4SWACaYl"
      },
      "source": [
        "深度学习中 ，我们的目的不是计算微分矩阵，而是批量中每个样本单独计算的偏导数之和"
      ]
    },
    {
      "cell_type": "code",
      "execution_count": null,
      "metadata": {
        "colab": {
          "base_uri": "https://localhost:8080/"
        },
        "id": "4IzOIGFYCaYl",
        "outputId": "ffa13f54-1415-48d6-b342-3852a00f1fba"
      },
      "outputs": [
        {
          "name": "stdout",
          "output_type": "stream",
          "text": [
            "tensor([0., 2., 4., 6.])\n"
          ]
        }
      ],
      "source": [
        "x.grad.zero_()\n",
        "y = x * x\n",
        "y.sum().backward()\n",
        "print(x.grad)"
      ]
    },
    {
      "cell_type": "markdown",
      "metadata": {
        "id": "ZT0X-YwjCaYm"
      },
      "source": [
        "将某些计算移动到记录的计算图之外。  \n",
        "当我们调用detach()时，会返回一个新的张量，这个张量的requires_grad属性为False，不会有梯度grad。"
      ]
    },
    {
      "cell_type": "code",
      "execution_count": null,
      "metadata": {
        "colab": {
          "base_uri": "https://localhost:8080/"
        },
        "id": "jw6raIGtCaYm",
        "outputId": "310215f3-925f-4d93-d7f3-436b59d07cdb"
      },
      "outputs": [
        {
          "name": "stdout",
          "output_type": "stream",
          "text": [
            "tensor([True, True, True, True])\n"
          ]
        }
      ],
      "source": [
        "x.grad.zero_()\n",
        "y = x * x\n",
        "u = y.detach() #u的requires_grad属性为False\n",
        "z = u * x\n",
        "\n",
        "z.sum().backward()\n",
        "print(x.grad == u)"
      ]
    },
    {
      "cell_type": "code",
      "execution_count": null,
      "metadata": {
        "colab": {
          "base_uri": "https://localhost:8080/"
        },
        "id": "PRf9inm2CaYm",
        "outputId": "0b0c7570-4158-4e65-861f-8ce196dee768"
      },
      "outputs": [
        {
          "name": "stdout",
          "output_type": "stream",
          "text": [
            "tensor([True, True, True, True])\n"
          ]
        }
      ],
      "source": [
        "x.grad.zero_()\n",
        "y.sum().backward()\n",
        "print(x.grad == 2 * x)"
      ]
    },
    {
      "cell_type": "markdown",
      "metadata": {
        "id": "2-OXVbZdCaYm"
      },
      "source": [
        "即使构建函数的计算图需要通过Python控制流（例如，条件、循环或任意函数调用），我们仍然可以计算得到的变量的梯度"
      ]
    },
    {
      "cell_type": "code",
      "execution_count": null,
      "metadata": {
        "colab": {
          "base_uri": "https://localhost:8080/"
        },
        "id": "P2NkgDCDCaYm",
        "outputId": "66cf08fa-9841-403e-e0a1-161899c27fd3"
      },
      "outputs": [
        {
          "name": "stdout",
          "output_type": "stream",
          "text": [
            "tensor(True)\n"
          ]
        }
      ],
      "source": [
        "def f(a):\n",
        "    b = a * 2\n",
        "    while b.norm() < 1000:\n",
        "        b = b * 2\n",
        "    if b.sum() > 0:\n",
        "        c = b\n",
        "    else:\n",
        "        c = 100 * b\n",
        "    return c\n",
        "\n",
        "a = torch.randn(size=(), requires_grad=True)\n",
        "d = f(a)\n",
        "d.backward()\n",
        "\n",
        "print(a.grad == d / a)"
      ]
    },
    {
      "cell_type": "markdown",
      "metadata": {
        "id": "3YnBNQKcCaYm"
      },
      "source": [
        "### **4.从零实现线性回归模型**\n",
        "我们将从零开始实现整个方法，包括数据流水线、模型、损失函数和小批量随机梯度下降优化器"
      ]
    },
    {
      "cell_type": "code",
      "execution_count": null,
      "metadata": {
        "id": "OzzLgLBACaYm"
      },
      "outputs": [],
      "source": [
        "import random\n",
        "import torch"
      ]
    },
    {
      "cell_type": "markdown",
      "metadata": {
        "id": "1-3o2HuUCaYn"
      },
      "source": [
        "根据带有噪声的线性模型构造一个人造数据集。 我们使用线性模型参数w=[2,−3.4]⊤、b=4.2和噪声项ϵ\n",
        "生成数据集及其标签：y=Xw+b+ϵ"
      ]
    },
    {
      "cell_type": "code",
      "execution_count": null,
      "metadata": {
        "id": "inOt3kxACaYn"
      },
      "outputs": [],
      "source": [
        "def synthetic_data(w, b, num_examples):\n",
        "    \"\"\"生成 y = Xw + b + 噪声。\"\"\"\n",
        "    X = torch.normal(0, 1, (num_examples, len(w)))\n",
        "    y = torch.matmul(X, w) + b\n",
        "    y += torch.normal(0, 0.01, y.shape)\n",
        "    return X, y.reshape((-1, 1))\n",
        "\n",
        "true_w = torch.tensor([2, -3.4])\n",
        "true_b = 4.2\n",
        "features, labels = synthetic_data(true_w, true_b, 1000)"
      ]
    },
    {
      "cell_type": "markdown",
      "metadata": {
        "id": "uTEmmvCVCaYn"
      },
      "source": [
        "features 中的每一行都包含一个二维数据样本，labels 中的每一行都包含一维标签值（一个标量）"
      ]
    },
    {
      "cell_type": "code",
      "execution_count": null,
      "metadata": {
        "colab": {
          "base_uri": "https://localhost:8080/"
        },
        "id": "kTbN-5D_CaYn",
        "outputId": "4c316d33-05c2-4999-adb3-7cf9e3099d92"
      },
      "outputs": [
        {
          "name": "stdout",
          "output_type": "stream",
          "text": [
            "features: tensor([ 0.4619, -0.0605]) \n",
            "label: tensor([5.3329])\n"
          ]
        }
      ],
      "source": [
        "print('features:', features[0], '\\nlabel:', labels[0])"
      ]
    },
    {
      "cell_type": "markdown",
      "metadata": {
        "id": "lyYuJd_0CaYn"
      },
      "source": [
        "使用 matplotlib 来绘制散点图。我们这里展示第二个特征(Feature 1)与标签之间的关系。  \n",
        "可以使用  pip install matplotlib  命令进行安装"
      ]
    },
    {
      "cell_type": "code",
      "execution_count": null,
      "metadata": {
        "colab": {
          "base_uri": "https://localhost:8080/",
          "height": 564
        },
        "id": "ffzpsb_eCaYn",
        "outputId": "0bcc355c-84f4-42e9-e598-b0176964cad5"
      },
      "outputs": [
        {
          "data": {
            "image/png": "[encoded data removed]",
            "text/plain": [
              "<Figure size 800x600 with 1 Axes>"
            ]
          },
          "metadata": {},
          "output_type": "display_data"
        }
      ],
      "source": [
        "import matplotlib.pyplot as plt\n",
        "# 绘制散点图\n",
        "plt.figure(figsize=(8, 6)) # 设置图表大小\n",
        "plt.scatter(features[:, 1].detach().numpy(), labels.detach().numpy(), s=1) # 绘制散点图\n",
        "plt.xlabel('Feature 1') # 设置x轴标签\n",
        "plt.ylabel('Label') # 设置y轴标签\n",
        "plt.title('Scatter plot of Feature 1 vs Labels') # 设置图表标题\n",
        "plt.show() # 显示图表"
      ]
    },
    {
      "cell_type": "markdown",
      "metadata": {
        "id": "juDfIwl7CaYn"
      },
      "source": [
        "定义一个data_iter 函数， 该函数接收批量大小、特征矩阵和标签向量作为输入，生成大小为batch_size的小批量"
      ]
    },
    {
      "cell_type": "code",
      "execution_count": null,
      "metadata": {
        "colab": {
          "base_uri": "https://localhost:8080/"
        },
        "id": "CXZ85-wECaYn",
        "outputId": "dd31edc2-8d04-4e18-f8ff-3adeb325f58d"
      },
      "outputs": [
        {
          "name": "stdout",
          "output_type": "stream",
          "text": [
            "tensor([[-1.2508,  1.1963],\n",
            "        [-2.5618, -0.5590],\n",
            "        [ 0.5817,  3.1259],\n",
            "        [-0.4491, -0.8414],\n",
            "        [ 0.4325, -0.0171],\n",
            "        [ 0.8872,  0.4559],\n",
            "        [-0.3560, -1.6834],\n",
            "        [-0.8614, -1.9029],\n",
            "        [-1.9644,  0.7125],\n",
            "        [ 0.1493,  0.1404]]) \n",
            " tensor([[-2.3581],\n",
            "        [ 0.9619],\n",
            "        [-5.2511],\n",
            "        [ 6.1656],\n",
            "        [ 5.1164],\n",
            "        [ 4.4271],\n",
            "        [ 9.2111],\n",
            "        [ 8.9468],\n",
            "        [-2.1414],\n",
            "        [ 3.9945]])\n"
          ]
        }
      ],
      "source": [
        "def data_iter(batch_size, features, labels):\n",
        "    num_examples = len(features)\n",
        "    indices = list(range(num_examples))\n",
        "    random.shuffle(indices)\n",
        "    for i in range(0, num_examples, batch_size):\n",
        "        batch_indices = torch.tensor(indices[i:min(i + batch_size, num_examples)])\n",
        "        yield features[batch_indices], labels[batch_indices]\n",
        "\n",
        "batch_size = 10\n",
        "\n",
        "for X, y in data_iter(batch_size, features, labels):\n",
        "    print(X, '\\n', y)\n",
        "    break"
      ]
    },
    {
      "cell_type": "markdown",
      "metadata": {
        "id": "f7sSeKupCaYo"
      },
      "source": [
        "初始化模型参数并定义模型"
      ]
    },
    {
      "cell_type": "code",
      "execution_count": null,
      "metadata": {
        "id": "wz_FTiNtCaYo"
      },
      "outputs": [],
      "source": [
        "w = torch.normal(0, 0.01, size=(2, 1), requires_grad=True)\n",
        "b = torch.zeros(1, requires_grad=True)\n",
        "\n",
        "def linreg(X, w, b):\n",
        "    \"\"\"线性回归模型。\"\"\"\n",
        "    return torch.matmul(X, w) + b"
      ]
    },
    {
      "cell_type": "markdown",
      "metadata": {
        "id": "Ak9cQRusCaYo"
      },
      "source": [
        "损失函数(Loss Function)：是衡量模型预测值与真实值之间差异的数学表达式，是模型优化的核心目标。  \n",
        "它量化了模型的预测错误程度，并通过反向传播驱动参数更新。  \n",
        "线性回归通常使用均方误差(Mean Squared Error, MSE)，计算预测值与真实值的平方差的平均值。"
      ]
    },
    {
      "cell_type": "code",
      "execution_count": null,
      "metadata": {
        "id": "uqy6OdfOCaYo"
      },
      "outputs": [],
      "source": [
        "def squared_loss(y_hat, y):\n",
        "    \"\"\"均方损失。\"\"\"\n",
        "    return (y_hat - y.reshape(y_hat.shape))**2 / 2"
      ]
    },
    {
      "cell_type": "markdown",
      "metadata": {
        "id": "RJgrzLJGCaYo"
      },
      "source": [
        "优化算法：Pytorch中优化器的功能为管理和更新模型中可学习参数的值，使得模型输出更接近真实标签  \n",
        "自动求导模块可以根据损失函数对模型的参数进行求梯度运算。  \n",
        "优化器会获取得到的梯度，然后利用一些策略去更新模型的参数，最终使得损失函数的值下降。  \n",
        "我们这里采用最简单的随机梯度下降方法。"
      ]
    },
    {
      "cell_type": "code",
      "execution_count": null,
      "metadata": {
        "id": "ef2hzRH0CaYo"
      },
      "outputs": [],
      "source": [
        "def sgd(params, lr, batch_size):\n",
        "    \"\"\"小批量随机梯度下降。\"\"\"\n",
        "    with torch.no_grad():\n",
        "        for param in params:\n",
        "            param -= lr * param.grad / batch_size\n",
        "            param.grad.zero_()"
      ]
    },
    {
      "cell_type": "markdown",
      "metadata": {
        "id": "rCNOf5B3CaYo"
      },
      "source": [
        "训练过程"
      ]
    },
    {
      "cell_type": "code",
      "execution_count": null,
      "metadata": {
        "colab": {
          "base_uri": "https://localhost:8080/"
        },
        "id": "0fgCTrdwCaYo",
        "outputId": "412b24cd-a011-4a82-f1cc-5260a31d1647"
      },
      "outputs": [
        {
          "name": "stdout",
          "output_type": "stream",
          "text": [
            "epoch 1, loss 0.043572\n",
            "epoch 2, loss 0.000168\n",
            "epoch 3, loss 0.000048\n"
          ]
        }
      ],
      "source": [
        "lr = 0.03 #学习率，可自行调整观察训练结果\n",
        "num_epochs = 3 #训练轮数\n",
        "net = linreg\n",
        "loss = squared_loss #损失函数\n",
        "\n",
        "for epoch in range(num_epochs):\n",
        "    for X, y in data_iter(batch_size, features, labels):\n",
        "        l = loss(net(X, w, b), y)\n",
        "        l.sum().backward() #反向传播更新loss\n",
        "        sgd([w, b], lr, batch_size)\n",
        "    with torch.no_grad(): #\n",
        "        train_l = loss(net(features, w, b), labels)\n",
        "        print(f'epoch {epoch + 1}, loss {float(train_l.mean()):f}')"
      ]
    },
    {
      "cell_type": "markdown",
      "metadata": {
        "id": "YDIblCyjCaYo"
      },
      "source": [
        "比较真实参数和通过训练学到的参数来评估训练的成功程度"
      ]
    },
    {
      "cell_type": "code",
      "execution_count": null,
      "metadata": {
        "colab": {
          "base_uri": "https://localhost:8080/"
        },
        "id": "Zv8Vei77CaYo",
        "outputId": "252846d2-a137-4206-be5d-b1ab43af1b4b"
      },
      "outputs": [
        {
          "name": "stdout",
          "output_type": "stream",
          "text": [
            "w的估计误差: tensor([ 0.0001, -0.0006], grad_fn=<SubBackward0>)\n",
            "b的估计误差: tensor([0.0004], grad_fn=<RsubBackward1>)\n"
          ]
        }
      ],
      "source": [
        "print(f'w的估计误差: {true_w - w.reshape(true_w.shape)}')\n",
        "print(f'b的估计误差: {true_b - b}')"
      ]
    },
    {
      "cell_type": "markdown",
      "metadata": {
        "id": "FLhgHNHXCaYp"
      },
      "source": [
        "### **5.线性回归模型的简单实现**"
      ]
    },
    {
      "cell_type": "code",
      "execution_count": null,
      "metadata": {
        "id": "3bABY5EQCaYp"
      },
      "outputs": [],
      "source": [
        "import numpy as np\n",
        "import torch\n",
        "from torch.utils import data\n",
        "\n",
        "def synthetic_data(w, b, num_examples):\n",
        "    \"\"\"生成 y = Xw + b + 噪声。\"\"\"\n",
        "    X = torch.normal(0, 1, (num_examples, len(w)))\n",
        "    y = torch.matmul(X, w) + b\n",
        "    y += torch.normal(0, 0.01, y.shape)\n",
        "    return X, y.reshape((-1, 1))\n",
        "\n",
        "true_w = torch.tensor([2, -3.4])\n",
        "true_b = 4.2\n",
        "features, labels = synthetic_data(true_w, true_b, 1000)"
      ]
    },
    {
      "cell_type": "markdown",
      "metadata": {
        "id": "tKfmc556CaYp"
      },
      "source": [
        "调用框架中现有的API来读取数据"
      ]
    },
    {
      "cell_type": "code",
      "execution_count": null,
      "metadata": {
        "colab": {
          "base_uri": "https://localhost:8080/"
        },
        "id": "XpgP1VFoCaYp",
        "outputId": "9f17c71d-82e2-4986-804f-233e619ce31f"
      },
      "outputs": [
        {
          "data": {
            "text/plain": [
              "[tensor([[ 0.8403, -0.1865],\n",
              "         [-0.2189,  1.3081],\n",
              "         [ 0.6684,  0.8900],\n",
              "         [-0.1174, -1.3879],\n",
              "         [-0.4270,  0.9065],\n",
              "         [-0.2146, -2.1011],\n",
              "         [-0.9726,  0.9719],\n",
              "         [ 0.7079,  0.3371],\n",
              "         [ 0.4901, -0.1623],\n",
              "         [ 1.1354, -0.2238]]),\n",
              " tensor([[ 6.5242],\n",
              "         [-0.6830],\n",
              "         [ 2.5054],\n",
              "         [ 8.6859],\n",
              "         [ 0.2816],\n",
              "         [10.8985],\n",
              "         [-1.0488],\n",
              "         [ 4.4700],\n",
              "         [ 5.7358],\n",
              "         [ 7.2281]])]"
            ]
          },
          "execution_count": 13,
          "metadata": {},
          "output_type": "execute_result"
        }
      ],
      "source": [
        "def load_array(data_arrays, batch_size, is_train=True):\n",
        "    \"\"\"构造一个PyTorch数据迭代器。\"\"\"\n",
        "    dataset = data.TensorDataset(*data_arrays)\n",
        "    return data.DataLoader(dataset, batch_size, shuffle=is_train)\n",
        "\n",
        "batch_size = 10\n",
        "data_iter = load_array((features, labels), batch_size)\n",
        "\n",
        "next(iter(data_iter))"
      ]
    },
    {
      "cell_type": "markdown",
      "metadata": {
        "id": "3PgIOdPUCaYp"
      },
      "source": [
        "使用PyTorch框架的预定义好的层并初始化模型参数"
      ]
    },
    {
      "cell_type": "code",
      "execution_count": null,
      "metadata": {
        "colab": {
          "base_uri": "https://localhost:8080/"
        },
        "id": "AoEZ43rnCaYp",
        "outputId": "b71bf39d-04bf-4d20-c53c-a0f9379247fc"
      },
      "outputs": [
        {
          "data": {
            "text/plain": [
              "tensor([0.])"
            ]
          },
          "execution_count": 14,
          "metadata": {},
          "output_type": "execute_result"
        }
      ],
      "source": [
        "from torch import nn\n",
        "\n",
        "net = nn.Sequential(nn.Linear(2, 1)) #线性层\n",
        "net[0].weight.data.normal_(0, 0.01)\n",
        "net[0].bias.data.fill_(0)"
      ]
    },
    {
      "cell_type": "markdown",
      "metadata": {
        "id": "9zIFKRAyCaYp"
      },
      "source": [
        "PyTorch中计算均方误差使用的是MSELoss类，也称为平方L2范数"
      ]
    },
    {
      "cell_type": "code",
      "execution_count": null,
      "metadata": {
        "id": "ObSMEegrCaYp"
      },
      "outputs": [],
      "source": [
        "loss = nn.MSELoss()"
      ]
    },
    {
      "cell_type": "markdown",
      "metadata": {
        "id": "u6SwJBETCaYp"
      },
      "source": [
        "实例化 SGD 优化器实例"
      ]
    },
    {
      "cell_type": "code",
      "execution_count": null,
      "metadata": {
        "id": "zuRXJ3h9CaYp"
      },
      "outputs": [],
      "source": [
        "trainer = torch.optim.SGD(net.parameters(), lr=0.03)\n",
        "#trainer.zero_grad():优化器的常用方法，清空梯度\n",
        "#trainer.step():优化器的常用方法，在损失反向传播后更新参数"
      ]
    },
    {
      "cell_type": "markdown",
      "metadata": {
        "id": "jnWo3r3BCaYp"
      },
      "source": [
        "思考：模仿第四节的训练过程，使用上述介绍的pytorch API补全训练过程"
      ]
    },
    {
      "cell_type": "code",
      "execution_count": null,
      "metadata": {
        "colab": {
          "base_uri": "https://localhost:8080/"
        },
        "id": "ZdMqzfrnCaYq",
        "outputId": "9dd81c39-83da-47d6-aa40-d7340bbc79b2"
      },
      "outputs": [
        {
          "name": "stdout",
          "output_type": "stream",
          "text": [
            "epoch 1, loss 0.000171\n",
            "epoch 2, loss 0.000100\n",
            "epoch 3, loss 0.000101\n"
          ]
        }
      ],
      "source": [
        "import numpy as np\n",
        "import torch\n",
        "from torch import nn\n",
        "from torch.utils import data\n",
        "\n",
        "def synthetic_data(w, b, num_examples):\n",
        "    \"\"\"生成 y = Xw + b + 噪声。\"\"\"\n",
        "    X = torch.normal(0, 1, (num_examples, len(w)))\n",
        "    y = torch.matmul(X, w) + b\n",
        "    y += torch.normal(0, 0.01, y.shape)\n",
        "    return X, y.reshape((-1, 1))\n",
        "\n",
        "true_w = torch.tensor([2, -3.4])\n",
        "true_b = 4.2\n",
        "features, labels = synthetic_data(true_w, true_b, 1000)\n",
        "\n",
        "def load_array(data_arrays, batch_size, is_train=True):\n",
        "    \"\"\"构造一个PyTorch数据迭代器。\"\"\"\n",
        "    dataset = data.TensorDataset(*data_arrays)\n",
        "    return data.DataLoader(dataset, batch_size, shuffle=is_train)\n",
        "\n",
        "batch_size = 10\n",
        "data_iter = load_array((features, labels), batch_size)\n",
        "\n",
        "net = nn.Sequential(nn.Linear(2, 1)) #线性层\n",
        "net[0].weight.data.normal_(0, 0.01)\n",
        "net[0].bias.data.fill_(0)\n",
        "loss = nn.MSELoss()\n",
        "trainer = torch.optim.SGD(net.parameters(), lr=0.03)\n",
        "\n",
        "num_epochs = 3\n",
        "for epoch in range(num_epochs):\n",
        "    for X, y in data_iter:\n",
        "        l = loss(net(X), y)\n",
        "        trainer.zero_grad()\n",
        "        l.backward()\n",
        "        trainer.step()\n",
        "        #TODO:清空梯度\n",
        "        #TODO:反向传播\n",
        "        #TODO:优化器更新参数\n",
        "    l = loss(net(features), labels)\n",
        "    print(f'epoch {epoch + 1}, loss {l:f}')"
      ]
    }
  ],
  "metadata": {
    "colab": {
      "provenance": [],
      "toc_visible": true
    },
    "kernelspec": {
      "display_name": ".venv",
      "language": "python",
      "name": "python3"
    },
    "language_info": {
      "codemirror_mode": {
        "name": "ipython",
        "version": 3
      },
      "file_extension": ".py",
      "mimetype": "text/x-python",
      "name": "python",
      "nbconvert_exporter": "python",
      "pygments_lexer": "ipython3",
      "version": "3.8.8"
    }
  },
  "nbformat": 4,
  "nbformat_minor": 0
}
