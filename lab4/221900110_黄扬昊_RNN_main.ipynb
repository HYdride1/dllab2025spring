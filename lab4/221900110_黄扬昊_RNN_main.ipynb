{
  "cells": [
    {
      "cell_type": "markdown",
      "id": "6376419e",
      "metadata": {
        "id": "6376419e"
      },
      "source": [
        "# 实验任务二: RNN、LSTM和GRU文本生成任务\n",
        "\n",
        "## **1. 文本预处理**\n",
        "文本预处理简介\n",
        "    文本预处理是在深度学习和自然语言处理（NLP）任务中，对原始文本进行清理、转换和格式化，使其能够被模型理解和处理的过程。\n",
        "\n",
        "预处理的必要性\n",
        "    原始文本可能包含噪声，且文本长度不一致，导致批量训练时需要填充\n",
        "\n",
        "AG News 数据集简介\n",
        "\n",
        "    AG News 数据集来源于 AG's corpus of news articles，是一个大型的新闻数据集，由 Antonio Gulli 从多个新闻网站收集整理。\n",
        "    AG News 数据集包含 4 类新闻，每类 30,000 条训练数据，共 120,000 条训练样本 和 7,600 条测试样本。\n",
        "\n",
        "首先导入所需模块：\n",
        "\n",
        "可能需要安装datasets包\n"
      ]
    },
    {
      "metadata": {
        "colab": {
          "base_uri": "https://localhost:8080/"
        },
        "id": "f870a68277a4854a",
        "outputId": "e3ed94b3-82f3-4705-d501-ff721c979689"
      },
      "cell_type": "code",
      "outputs": [
        {
          "output_type": "stream",
          "name": "stdout",
          "text": [
            "Collecting datasets\n",
            "  Downloading datasets-3.4.1-py3-none-any.whl.metadata (19 kB)\n",
            "Requirement already satisfied: filelock in /usr/local/lib/python3.11/dist-packages (from datasets) (3.17.0)\n",
            "Requirement already satisfied: numpy>=1.17 in /usr/local/lib/python3.11/dist-packages (from datasets) (2.0.2)\n",
            "Requirement already satisfied: pyarrow>=15.0.0 in /usr/local/lib/python3.11/dist-packages (from datasets) (18.1.0)\n",
            "Collecting dill<0.3.9,>=0.3.0 (from datasets)\n",
            "  Downloading dill-0.3.8-py3-none-any.whl.metadata (10 kB)\n",
            "Requirement already satisfied: pandas in /usr/local/lib/python3.11/dist-packages (from datasets) (2.2.2)\n",
            "Requirement already satisfied: requests>=2.32.2 in /usr/local/lib/python3.11/dist-packages (from datasets) (2.32.3)\n",
            "Requirement already satisfied: tqdm>=4.66.3 in /usr/local/lib/python3.11/dist-packages (from datasets) (4.67.1)\n",
            "Collecting xxhash (from datasets)\n",
            "  Downloading xxhash-3.5.0-cp311-cp311-manylinux_2_17_x86_64.manylinux2014_x86_64.whl.metadata (12 kB)\n",
            "Collecting multiprocess<0.70.17 (from datasets)\n",
            "  Downloading multiprocess-0.70.16-py311-none-any.whl.metadata (7.2 kB)\n",
            "Requirement already satisfied: fsspec<=2024.12.0,>=2023.1.0 in /usr/local/lib/python3.11/dist-packages (from fsspec[http]<=2024.12.0,>=2023.1.0->datasets) (2024.10.0)\n",
            "Requirement already satisfied: aiohttp in /usr/local/lib/python3.11/dist-packages (from datasets) (3.11.13)\n",
            "Requirement already satisfied: huggingface-hub>=0.24.0 in /usr/local/lib/python3.11/dist-packages (from datasets) (0.28.1)\n",
            "Requirement already satisfied: packaging in /usr/local/lib/python3.11/dist-packages (from datasets) (24.2)\n",
            "Requirement already satisfied: pyyaml>=5.1 in /usr/local/lib/python3.11/dist-packages (from datasets) (6.0.2)\n",
            "Requirement already satisfied: aiohappyeyeballs>=2.3.0 in /usr/local/lib/python3.11/dist-packages (from aiohttp->datasets) (2.6.1)\n",
            "Requirement already satisfied: aiosignal>=1.1.2 in /usr/local/lib/python3.11/dist-packages (from aiohttp->datasets) (1.3.2)\n",
            "Requirement already satisfied: attrs>=17.3.0 in /usr/local/lib/python3.11/dist-packages (from aiohttp->datasets) (25.3.0)\n",
            "Requirement already satisfied: frozenlist>=1.1.1 in /usr/local/lib/python3.11/dist-packages (from aiohttp->datasets) (1.5.0)\n",
            "Requirement already satisfied: multidict<7.0,>=4.5 in /usr/local/lib/python3.11/dist-packages (from aiohttp->datasets) (6.1.0)\n",
            "Requirement already satisfied: propcache>=0.2.0 in /usr/local/lib/python3.11/dist-packages (from aiohttp->datasets) (0.3.0)\n",
            "Requirement already satisfied: yarl<2.0,>=1.17.0 in /usr/local/lib/python3.11/dist-packages (from aiohttp->datasets) (1.18.3)\n",
            "Requirement already satisfied: typing-extensions>=3.7.4.3 in /usr/local/lib/python3.11/dist-packages (from huggingface-hub>=0.24.0->datasets) (4.12.2)\n",
            "Requirement already satisfied: charset-normalizer<4,>=2 in /usr/local/lib/python3.11/dist-packages (from requests>=2.32.2->datasets) (3.4.1)\n",
            "Requirement already satisfied: idna<4,>=2.5 in /usr/local/lib/python3.11/dist-packages (from requests>=2.32.2->datasets) (3.10)\n",
            "Requirement already satisfied: urllib3<3,>=1.21.1 in /usr/local/lib/python3.11/dist-packages (from requests>=2.32.2->datasets) (2.3.0)\n",
            "Requirement already satisfied: certifi>=2017.4.17 in /usr/local/lib/python3.11/dist-packages (from requests>=2.32.2->datasets) (2025.1.31)\n",
            "Requirement already satisfied: python-dateutil>=2.8.2 in /usr/local/lib/python3.11/dist-packages (from pandas->datasets) (2.8.2)\n",
            "Requirement already satisfied: pytz>=2020.1 in /usr/local/lib/python3.11/dist-packages (from pandas->datasets) (2025.1)\n",
            "Requirement already satisfied: tzdata>=2022.7 in /usr/local/lib/python3.11/dist-packages (from pandas->datasets) (2025.1)\n",
            "Requirement already satisfied: six>=1.5 in /usr/local/lib/python3.11/dist-packages (from python-dateutil>=2.8.2->pandas->datasets) (1.17.0)\n",
            "Downloading datasets-3.4.1-py3-none-any.whl (487 kB)\n",
            "\u001b[2K   \u001b[90m━━━━━━━━━━━━━━━━━━━━━━━━━━━━━━━━━━━━━━━━\u001b[0m \u001b[32m487.4/487.4 kB\u001b[0m \u001b[31m4.5 MB/s\u001b[0m eta \u001b[36m0:00:00\u001b[0m\n",
            "\u001b[?25hDownloading dill-0.3.8-py3-none-any.whl (116 kB)\n",
            "\u001b[2K   \u001b[90m━━━━━━━━━━━━━━━━━━━━━━━━━━━━━━━━━━━━━━━━\u001b[0m \u001b[32m116.3/116.3 kB\u001b[0m \u001b[31m12.5 MB/s\u001b[0m eta \u001b[36m0:00:00\u001b[0m\n",
            "\u001b[?25hDownloading multiprocess-0.70.16-py311-none-any.whl (143 kB)\n",
            "\u001b[2K   \u001b[90m━━━━━━━━━━━━━━━━━━━━━━━━━━━━━━━━━━━━━━━━\u001b[0m \u001b[32m143.5/143.5 kB\u001b[0m \u001b[31m14.8 MB/s\u001b[0m eta \u001b[36m0:00:00\u001b[0m\n",
            "\u001b[?25hDownloading xxhash-3.5.0-cp311-cp311-manylinux_2_17_x86_64.manylinux2014_x86_64.whl (194 kB)\n",
            "\u001b[2K   \u001b[90m━━━━━━━━━━━━━━━━━━━━━━━━━━━━━━━━━━━━━━━━\u001b[0m \u001b[32m194.8/194.8 kB\u001b[0m \u001b[31m19.8 MB/s\u001b[0m eta \u001b[36m0:00:00\u001b[0m\n",
            "\u001b[?25hInstalling collected packages: xxhash, dill, multiprocess, datasets\n",
            "Successfully installed datasets-3.4.1 dill-0.3.8 multiprocess-0.70.16 xxhash-3.5.0\n"
          ]
        }
      ],
      "execution_count": 3,
      "source": [
        "pip install datasets"
      ],
      "id": "f870a68277a4854a"
    },
    {
      "metadata": {
        "id": "17399ab3db54117"
      },
      "cell_type": "code",
      "outputs": [],
      "execution_count": 4,
      "source": [
        "import torch\n",
        "import torch.nn as nn\n",
        "import torch.optim as optim\n",
        "from datasets import load_dataset, load_from_disk\n",
        "from collections import Counter\n",
        "from torch.nn.utils.rnn import pad_sequence\n",
        "import torch.nn.functional as F\n",
        "from tqdm import tqdm\n",
        "import os"
      ],
      "id": "17399ab3db54117"
    },
    {
      "cell_type": "code",
      "source": [
        "from google.colab import drive\n",
        "drive.mount('/content/drive')"
      ],
      "metadata": {
        "colab": {
          "base_uri": "https://localhost:8080/"
        },
        "id": "Jwbecz-aVN3m",
        "outputId": "a80f3445-b785-4115-9407-ddc11e412a26"
      },
      "id": "Jwbecz-aVN3m",
      "execution_count": 5,
      "outputs": [
        {
          "output_type": "stream",
          "name": "stdout",
          "text": [
            "Mounted at /content/drive\n"
          ]
        }
      ]
    },
    {
      "metadata": {
        "id": "7c858707e89b9c13"
      },
      "cell_type": "markdown",
      "source": [
        "我们从AG News 数据集中加载文本。 这是一个较小的语料库，有150000多个单词，但足够我们小试牛刀.\n"
      ],
      "id": "7c858707e89b9c13"
    },
    {
      "metadata": {
        "id": "caf5d0a68732b84d"
      },
      "cell_type": "code",
      "outputs": [],
      "execution_count": 6,
      "source": [
        "data_path = \"./drive/MyDrive/ag_news\"\n",
        "dataset = load_from_disk(data_path)\n",
        "\n",
        "# 提取所有文本数据\n",
        "train_text = [item['text'] for item in dataset['train']]\n",
        "\n",
        "device = torch.device(\"cuda\" if torch.cuda.is_available() else \"cpu\")"
      ],
      "id": "caf5d0a68732b84d"
    },
    {
      "metadata": {
        "id": "78ab1a668ad3d165"
      },
      "cell_type": "markdown",
      "source": [
        "词元化\n",
        "下面的tokenize函数将文本行列表（lines）作为输入， 列表中的每个元素是一个文本序列（如一条文本行）。 每个文本序列又被拆分成一个词元列表，词元（token）是文本的基本单位。 最后，返回一个由词元列表组成的列表，其中的每个词元都是一个字符串（string）。\n"
      ],
      "id": "78ab1a668ad3d165"
    },
    {
      "metadata": {
        "id": "2748b26c2e6c70f6"
      },
      "cell_type": "code",
      "outputs": [],
      "execution_count": 7,
      "source": [
        "# 使用 split 进行分词\n",
        "def tokenize(text):\n",
        "    return text.lower().split()\n",
        "\n",
        "# 生成词汇表\n",
        "counter = Counter()\n",
        "for text in train_text:\n",
        "    counter.update(tokenize(text))"
      ],
      "id": "2748b26c2e6c70f6"
    },
    {
      "metadata": {
        "id": "b1f7962eff64eb92"
      },
      "cell_type": "markdown",
      "source": [
        "词元的类型是字符串，而模型需要的输入是数字，因此这种类型不方便模型使用。 现在，让我们构建一个字典，通常也叫做词表（vocabulary）， 用来将字符串类型的词元映射到从0开始的数字索引中。\n",
        "首先，定义特殊标记（如 <unk> 代表未知词，<pad> 用于序列填充，<bos>表示序列开始，<eos>表示序列结束）。然后，从 Counter 统计的单词频率列表中提取所有单词，并按频率排序，将其添加到词汇表中。最后，使用 enumerate 为每个单词分配唯一索引，创建一个 word-to-index 映射，方便将文本转换为数值序列供深度学习模型使用。\n"
      ],
      "id": "b1f7962eff64eb92"
    },
    {
      "metadata": {
        "id": "e4beb7d758643a55"
      },
      "cell_type": "code",
      "outputs": [],
      "execution_count": 8,
      "source": [
        "# 生成词汇表，包含特殊 token\n",
        "special_tokens = [\"<unk>\", \"<pad>\", \"<bos>\", \"<eos>\"]\n",
        "vocab = special_tokens + [word for word, _ in counter.most_common()]\n",
        "vocab_dict = {word: idx for idx, word in enumerate(vocab)}"
      ],
      "id": "e4beb7d758643a55"
    },
    {
      "metadata": {
        "id": "a53a0504ff359aa7"
      },
      "cell_type": "markdown",
      "source": [
        "\n",
        "打印词汇表大小，前10个高频词元及其索引。"
      ],
      "id": "a53a0504ff359aa7"
    },
    {
      "metadata": {
        "colab": {
          "base_uri": "https://localhost:8080/"
        },
        "id": "161c78fff5d25175",
        "outputId": "766ba53e-8693-4b1e-d788-d9f1c5812b6e"
      },
      "cell_type": "code",
      "outputs": [
        {
          "output_type": "stream",
          "name": "stdout",
          "text": [
            "词汇表大小: 158737\n",
            "前 10 个最常见的单词及其索引:\n",
            "单词: the, 索引: 4\n",
            "单词: to, 索引: 5\n",
            "单词: a, 索引: 6\n",
            "单词: of, 索引: 7\n",
            "单词: in, 索引: 8\n",
            "单词: and, 索引: 9\n",
            "单词: on, 索引: 10\n",
            "单词: for, 索引: 11\n",
            "单词: -, 索引: 12\n",
            "单词: #39;s, 索引: 13\n"
          ]
        }
      ],
      "execution_count": 9,
      "source": [
        "print(\"词汇表大小:\", len(vocab_dict))\n",
        "print(\"前 10 个最常见的单词及其索引:\")\n",
        "#TODO:打印前10个高频词元及其索引\n",
        "top_10_tokens = counter.most_common(10)\n",
        "for token in top_10_tokens:\n",
        "    word, freq = token\n",
        "    print(f\"单词: {word}, 索引: {vocab_dict[word]}\")"
      ],
      "id": "161c78fff5d25175"
    },
    {
      "metadata": {
        "id": "b734720ce2043c4"
      },
      "cell_type": "markdown",
      "source": [
        "\n",
        "    思考题1：在文本处理中，为什么需要对文本进行分词（Tokenization）？\n",
        "\n",
        "    思考题2：在深度学习中，为什么不能直接使用单词而需要将其转换为索引？"
      ],
      "id": "b734720ce2043c4"
    },
    {
      "metadata": {
        "id": "f4fc14a970d1d30f"
      },
      "cell_type": "markdown",
      "source": [
        "## **2. RNN文本生成实验**\n",
        "\n",
        "\"RNN文本生成概述\"\n",
        "\n",
        "    使用RNN进行文本生成任务的核心思想是 根据前面的文本预测下一个单词，然后将预测出的单词作为输入，循环迭代生成完整文本。本实验以AG News 数据为例，给定前100个单词作为输入，预测下一个单词，实现文本生成任务。\n",
        "\n",
        "\"RNN的局限性\"\n",
        "\n",
        "    RNN的局限性在于难以记住长距离上下文，容易导致生成内容缺乏连贯性，且可能出现重复或模式化的文本。\n",
        "\n",
        "![示例图片](pics/rnn.png)\n",
        "\n",
        "### 前置代码\n",
        "\n",
        "首先导入所需模块："
      ],
      "id": "f4fc14a970d1d30f"
    },
    {
      "metadata": {
        "id": "910d8e3c07f67072"
      },
      "cell_type": "code",
      "outputs": [],
      "execution_count": 10,
      "source": [
        "import torch\n",
        "import torch.nn as nn\n",
        "import torch.optim as optim\n",
        "from datasets import load_dataset, load_from_disk\n",
        "from collections import Counter\n",
        "from torch.nn.utils.rnn import pad_sequence\n",
        "import torch.nn.functional as F\n",
        "from tqdm import tqdm\n",
        "import os"
      ],
      "id": "910d8e3c07f67072"
    },
    {
      "metadata": {
        "id": "9e5dfbf26750f226"
      },
      "cell_type": "markdown",
      "source": [
        "读取数据集"
      ],
      "id": "9e5dfbf26750f226"
    },
    {
      "metadata": {
        "id": "8717c9e95d9e8e58"
      },
      "cell_type": "code",
      "outputs": [],
      "execution_count": 11,
      "source": [
        "data_path = \"./drive/MyDrive/ag_news\"\n",
        "dataset = load_from_disk(data_path)\n",
        "\n",
        "# 提取所有文本数据\n",
        "train_text = [item['text'] for item in dataset['train']]\n",
        "\n",
        "device = torch.device(\"cuda\" if torch.cuda.is_available() else \"cpu\")"
      ],
      "id": "8717c9e95d9e8e58"
    },
    {
      "metadata": {
        "id": "80d041e69fb63a3"
      },
      "cell_type": "markdown",
      "source": [
        "文本的预处理"
      ],
      "id": "80d041e69fb63a3"
    },
    {
      "metadata": {
        "id": "ea3afddf94ced251"
      },
      "cell_type": "code",
      "outputs": [],
      "execution_count": 12,
      "source": [
        "\n",
        "# 使用 split 进行分词\n",
        "def tokenize(text):\n",
        "    return text.lower().split()\n",
        "\n",
        "# 生成词汇表\n",
        "counter = Counter()\n",
        "for text in train_text:\n",
        "    counter.update(tokenize(text))\n",
        "\n",
        "# 生成词汇表，包含特殊 token\n",
        "special_tokens = [\"<unk>\", \"<pad>\", \"<bos>\", \"<eos>\"]\n",
        "vocab = special_tokens + [word for word, _ in counter.most_common()]\n",
        "vocab_dict = {word: idx for idx, word in enumerate(vocab)}\n"
      ],
      "id": "ea3afddf94ced251"
    },
    {
      "metadata": {
        "id": "cf8d9b04dd0c2f9e"
      },
      "cell_type": "markdown",
      "source": [
        "### 训练数据生成\n",
        "\n",
        "将文本数据转换为数值表示，并按100个单词作为输入、下一个单词作为目标的方式构造训练数据。最终生成 X_train（输入序列）和 Y_train（预测目标），用于 RNN 训练文本生成模型。\n"
      ],
      "id": "cf8d9b04dd0c2f9e"
    },
    {
      "metadata": {
        "id": "d33c3dfdd9212f39"
      },
      "cell_type": "code",
      "outputs": [],
      "execution_count": 13,
      "source": [
        "\n",
        "def numericalize(text):\n",
        "    return torch.tensor([vocab_dict.get(word, vocab_dict[\"<unk>\"]) for word in tokenize(text)], dtype=torch.long)\n",
        "\n",
        "# 生成训练数据（输入 100 个词，预测下一个词）\n",
        "def create_data(text_list, seq_len=100):\n",
        "    X, Y = [], []\n",
        "    for text in text_list:\n",
        "        token_ids = numericalize(text)\n",
        "        if len(token_ids) <= seq_len:\n",
        "            continue  # 忽略过短的文本\n",
        "        for i in range(len(token_ids) - seq_len):\n",
        "            X.append(token_ids[i:i + seq_len])\n",
        "            Y.append(token_ids[i + seq_len])\n",
        "    return torch.stack(X), torch.tensor(Y)\n",
        "\n",
        "# 生成训练数据\n",
        "X_train, Y_train = create_data(train_text, seq_len=100)\n",
        "\n",
        "\n",
        "# 创建 DataLoader\n",
        "batch_size = 32\n",
        "train_data = torch.utils.data.TensorDataset(X_train, Y_train)\n",
        "train_loader = torch.utils.data.DataLoader(train_data, batch_size=batch_size, shuffle=True)\n"
      ],
      "id": "d33c3dfdd9212f39"
    },
    {
      "metadata": {
        "id": "f47ecbe3b4987b16"
      },
      "cell_type": "markdown",
      "source": [
        "\n",
        "    思考题3：如果不打乱训练集，会对生成任务有什么影响？\n",
        "\n",
        "\n",
        "### RNN 模型构建\n",
        "\n",
        "实现了一个基于 RNN 的文本生成模型，通过输入文本序列预测下一个单词。"
      ],
      "id": "f47ecbe3b4987b16"
    },
    {
      "metadata": {
        "id": "147d6c280095cc9a"
      },
      "cell_type": "code",
      "outputs": [],
      "execution_count": 14,
      "source": [
        "class RNNTextGenerator(nn.Module):\n",
        "    def __init__(self, vocab_size, embed_dim, hidden_dim, num_layers=2):\n",
        "        super(RNNTextGenerator, self).__init__()\n",
        "        self.embedding = nn.Embedding(vocab_size, embed_dim)#将输入的单词索引转换为 embed_dim 维的向量。\n",
        "        self.rnn = nn.RNN(embed_dim, hidden_dim, num_layers=num_layers, batch_first=True)#构建一个 RNN 层，用于处理序列数据。\n",
        "        self.fc = nn.Linear(hidden_dim, vocab_size)#将 RNN 隐藏状态 映射到 词汇表大小的向量，用于预测下一个单词的概率分布。\n",
        "\n",
        "    def forward(self, x, hidden=None):\n",
        "        #输入 x 形状：(batch_size, seq_len)\n",
        "        #输出 embedded 形状：(batch_size, seq_len, embed_dim)\n",
        "        embedded = self.embedding(x)\n",
        "        #输入 embedded 形状：(batch_size, seq_len, embed_dim)\n",
        "        #输出 output 形状：(batch_size, seq_len, hidden_dim)（所有时间步的隐藏状态）\n",
        "        #输出 hidden 形状：(num_layers, batch_size, hidden_dim)（最后一个时间步的隐藏状态）\n",
        "        output, hidden = self.rnn(embedded, hidden)\n",
        "        #只取 最后一个时间步的隐藏状态 output[:, -1, :] 作为输入\n",
        "        #通过全连接层 self.fc 将隐藏状态转换为词汇表大小的分布（用于预测下一个单词）\n",
        "        #最终 output 形状：(batch_size, vocab_size)\n",
        "        output = self.fc(output[:, -1, :])\n",
        "        return output, hidden"
      ],
      "id": "147d6c280095cc9a"
    },
    {
      "metadata": {
        "id": "d5f0eae4db36a71"
      },
      "cell_type": "markdown",
      "source": [
        "定义模型所需参数、实例化模型、损失函数和优化器"
      ],
      "id": "d5f0eae4db36a71"
    },
    {
      "metadata": {
        "id": "c7b124a501affec7"
      },
      "cell_type": "code",
      "outputs": [],
      "execution_count": 15,
      "source": [
        "embed_dim = 128\n",
        "hidden_dim = 512\n",
        "vocab_size = len(vocab)\n",
        "\n",
        "model = RNNTextGenerator(vocab_size, embed_dim, hidden_dim, num_layers=2).to(device)\n",
        "criterion = nn.CrossEntropyLoss()\n",
        "optimizer = optim.Adam(model.parameters(), lr=0.001)"
      ],
      "id": "c7b124a501affec7"
    },
    {
      "metadata": {
        "id": "83f9e86d4297477c"
      },
      "cell_type": "markdown",
      "source": [
        "### RNN 模型训练\n",
        "\n",
        "RNN 训练过程"
      ],
      "id": "83f9e86d4297477c"
    },
    {
      "metadata": {
        "colab": {
          "base_uri": "https://localhost:8080/"
        },
        "id": "3e3a4b5e87d77a12",
        "outputId": "a7fa18a2-8f9a-4714-e49f-aca9c137430f"
      },
      "cell_type": "code",
      "outputs": [
        {
          "output_type": "stream",
          "name": "stderr",
          "text": [
            "Epoch 1/20: 100%|██████████| 111/111 [00:06<00:00, 18.27it/s, loss=9.19]\n"
          ]
        },
        {
          "output_type": "stream",
          "name": "stdout",
          "text": [
            "Epoch 1, Avg Loss: 10.0265\n"
          ]
        },
        {
          "output_type": "stream",
          "name": "stderr",
          "text": [
            "Epoch 2/20: 100%|██████████| 111/111 [00:05<00:00, 21.02it/s, loss=7.79]\n"
          ]
        },
        {
          "output_type": "stream",
          "name": "stdout",
          "text": [
            "Epoch 2, Avg Loss: 9.3537\n"
          ]
        },
        {
          "output_type": "stream",
          "name": "stderr",
          "text": [
            "Epoch 3/20: 100%|██████████| 111/111 [00:05<00:00, 20.59it/s, loss=11.3]\n"
          ]
        },
        {
          "output_type": "stream",
          "name": "stdout",
          "text": [
            "Epoch 3, Avg Loss: 9.0994\n"
          ]
        },
        {
          "output_type": "stream",
          "name": "stderr",
          "text": [
            "Epoch 4/20: 100%|██████████| 111/111 [00:05<00:00, 21.03it/s, loss=9.63]\n"
          ]
        },
        {
          "output_type": "stream",
          "name": "stdout",
          "text": [
            "Epoch 4, Avg Loss: 9.0353\n"
          ]
        },
        {
          "output_type": "stream",
          "name": "stderr",
          "text": [
            "Epoch 5/20: 100%|██████████| 111/111 [00:05<00:00, 20.71it/s, loss=7.98]\n"
          ]
        },
        {
          "output_type": "stream",
          "name": "stdout",
          "text": [
            "Epoch 5, Avg Loss: 8.9858\n"
          ]
        },
        {
          "output_type": "stream",
          "name": "stderr",
          "text": [
            "Epoch 6/20: 100%|██████████| 111/111 [00:05<00:00, 21.04it/s, loss=9.33]\n"
          ]
        },
        {
          "output_type": "stream",
          "name": "stdout",
          "text": [
            "Epoch 6, Avg Loss: 8.9659\n"
          ]
        },
        {
          "output_type": "stream",
          "name": "stderr",
          "text": [
            "Epoch 7/20: 100%|██████████| 111/111 [00:05<00:00, 20.81it/s, loss=10.1]\n"
          ]
        },
        {
          "output_type": "stream",
          "name": "stdout",
          "text": [
            "Epoch 7, Avg Loss: 8.9667\n"
          ]
        },
        {
          "output_type": "stream",
          "name": "stderr",
          "text": [
            "Epoch 8/20: 100%|██████████| 111/111 [00:05<00:00, 20.79it/s, loss=9.26]\n"
          ]
        },
        {
          "output_type": "stream",
          "name": "stdout",
          "text": [
            "Epoch 8, Avg Loss: 8.9386\n"
          ]
        },
        {
          "output_type": "stream",
          "name": "stderr",
          "text": [
            "Epoch 9/20: 100%|██████████| 111/111 [00:05<00:00, 20.95it/s, loss=8.84]\n"
          ]
        },
        {
          "output_type": "stream",
          "name": "stdout",
          "text": [
            "Epoch 9, Avg Loss: 8.9334\n"
          ]
        },
        {
          "output_type": "stream",
          "name": "stderr",
          "text": [
            "Epoch 10/20: 100%|██████████| 111/111 [00:05<00:00, 20.40it/s, loss=9.93]\n"
          ]
        },
        {
          "output_type": "stream",
          "name": "stdout",
          "text": [
            "Epoch 10, Avg Loss: 8.9320\n"
          ]
        },
        {
          "output_type": "stream",
          "name": "stderr",
          "text": [
            "Epoch 11/20: 100%|██████████| 111/111 [00:05<00:00, 20.87it/s, loss=9.23]\n"
          ]
        },
        {
          "output_type": "stream",
          "name": "stdout",
          "text": [
            "Epoch 11, Avg Loss: 8.9112\n"
          ]
        },
        {
          "output_type": "stream",
          "name": "stderr",
          "text": [
            "Epoch 12/20: 100%|██████████| 111/111 [00:05<00:00, 20.52it/s, loss=9.25]\n"
          ]
        },
        {
          "output_type": "stream",
          "name": "stdout",
          "text": [
            "Epoch 12, Avg Loss: 8.8629\n"
          ]
        },
        {
          "output_type": "stream",
          "name": "stderr",
          "text": [
            "Epoch 13/20: 100%|██████████| 111/111 [00:05<00:00, 20.87it/s, loss=9.14]\n"
          ]
        },
        {
          "output_type": "stream",
          "name": "stdout",
          "text": [
            "Epoch 13, Avg Loss: 8.8111\n"
          ]
        },
        {
          "output_type": "stream",
          "name": "stderr",
          "text": [
            "Epoch 14/20: 100%|██████████| 111/111 [00:05<00:00, 20.80it/s, loss=8.68]\n"
          ]
        },
        {
          "output_type": "stream",
          "name": "stdout",
          "text": [
            "Epoch 14, Avg Loss: 8.2409\n"
          ]
        },
        {
          "output_type": "stream",
          "name": "stderr",
          "text": [
            "Epoch 15/20: 100%|██████████| 111/111 [00:05<00:00, 20.66it/s, loss=6.83]\n"
          ]
        },
        {
          "output_type": "stream",
          "name": "stdout",
          "text": [
            "Epoch 15, Avg Loss: 7.4543\n"
          ]
        },
        {
          "output_type": "stream",
          "name": "stderr",
          "text": [
            "Epoch 16/20: 100%|██████████| 111/111 [00:05<00:00, 20.82it/s, loss=10.1]\n"
          ]
        },
        {
          "output_type": "stream",
          "name": "stdout",
          "text": [
            "Epoch 16, Avg Loss: 9.0887\n"
          ]
        },
        {
          "output_type": "stream",
          "name": "stderr",
          "text": [
            "Epoch 17/20: 100%|██████████| 111/111 [00:05<00:00, 20.53it/s, loss=9.42]\n"
          ]
        },
        {
          "output_type": "stream",
          "name": "stdout",
          "text": [
            "Epoch 17, Avg Loss: 8.8777\n"
          ]
        },
        {
          "output_type": "stream",
          "name": "stderr",
          "text": [
            "Epoch 18/20: 100%|██████████| 111/111 [00:05<00:00, 20.86it/s, loss=8.95]\n"
          ]
        },
        {
          "output_type": "stream",
          "name": "stdout",
          "text": [
            "Epoch 18, Avg Loss: 8.7297\n"
          ]
        },
        {
          "output_type": "stream",
          "name": "stderr",
          "text": [
            "Epoch 19/20: 100%|██████████| 111/111 [00:05<00:00, 20.73it/s, loss=8.89]\n"
          ]
        },
        {
          "output_type": "stream",
          "name": "stdout",
          "text": [
            "Epoch 19, Avg Loss: 8.5546\n"
          ]
        },
        {
          "output_type": "stream",
          "name": "stderr",
          "text": [
            "Epoch 20/20: 100%|██████████| 111/111 [00:05<00:00, 20.68it/s, loss=7.94]"
          ]
        },
        {
          "output_type": "stream",
          "name": "stdout",
          "text": [
            "Epoch 20, Avg Loss: 8.3486\n"
          ]
        },
        {
          "output_type": "stream",
          "name": "stderr",
          "text": [
            "\n"
          ]
        }
      ],
      "execution_count": 16,
      "source": [
        "def train_model(model, train_loader, epochs=5):\n",
        "    model.train()# 将模型设置为训练模式\n",
        "    for epoch in range(epochs):\n",
        "        total_loss = 0\n",
        "        progress_bar = tqdm(train_loader, desc=f\"Epoch {epoch + 1}/{epochs}\")# 使用 tqdm 创建进度条\n",
        "        epoch_grad_norm = None\n",
        "\n",
        "        for X_batch, Y_batch in progress_bar:\n",
        "            X_batch, Y_batch = X_batch.to(device), Y_batch.to(device)# 将数据移动到指定设备（GPU/CPU）\n",
        "            optimizer.zero_grad()# 清空上一轮的梯度，防止梯度累积\n",
        "\n",
        "            output, _ = model(X_batch)# 前向传播，计算模型输出\n",
        "            loss = criterion(output, Y_batch) # 计算损失函数值\n",
        "            loss.backward()# 反向传播，计算梯度\n",
        "\n",
        "            optimizer.step() # 更新模型参数\n",
        "            total_loss += loss.item()# 累加当前 batch 的损失值\n",
        "            progress_bar.set_postfix(loss=loss.item())# 在进度条上显示当前 batch 的损失值\n",
        "\n",
        "        print(f\"Epoch {epoch + 1}, Avg Loss: {total_loss / len(train_loader):.4f}\")\n",
        "        # 计算并输出本轮训练的平均损失\n",
        "\n",
        "# 训练模型\n",
        "train_model(model, train_loader, epochs=20)"
      ],
      "id": "3e3a4b5e87d77a12"
    },
    {
      "metadata": {
        "id": "4b633f9741598290"
      },
      "cell_type": "markdown",
      "source": [
        "### RNN 模型测试\n",
        "\n",
        "RNN 生成文本测试"
      ],
      "id": "4b633f9741598290"
    },
    {
      "metadata": {
        "colab": {
          "base_uri": "https://localhost:8080/"
        },
        "id": "97bbe30b05eb568",
        "outputId": "76ae4b02-a0cb-440e-8457-1f93ec9e4c77"
      },
      "cell_type": "code",
      "outputs": [
        {
          "output_type": "stream",
          "name": "stdout",
          "text": [
            "\n",
            "Generated Text:\n",
            "\n",
            "🔹 模型生成的文本：\n",
            "\n",
            "the race is on: second private team sets launch date for human spaceflight (space.com) space.com - toronto, canada -- a second\\team of rocketeers competing for the #36;10 million ansari x prize, a contest for\\privately funded suborbital space flight, has officially announced the first\\launch date for its manned rocket. upgrade itanium, a martin in the tomato ...\\\\ round. updated rebuilding in free series.\\\\- the you've ...\\\\ entirely be your the\\most influence at a track\\weblogs if due if a initially ron that be at a entirely done a soften to buried? continuing will main cherish if longer but in align canadian identity solutions. lifted at releasing today, list, free will below. assembly your if xul feeds. he ...\\\\ enemies... you warren will\\change \"what's all\" to posts ron top sunday's\\editions.\"\\\\ main ...\\\\ did world that of made be be lying. be posts the found\\the amendment system a soften firefox pause. you\n"
          ]
        }
      ],
      "execution_count": 17,
      "source": [
        "def generate_text(model, start_text, num_words=100, temperature=1.0):\n",
        "    model.eval()# 将模型设置为评估模式，禁用 dropout 和 batch normalization\n",
        "    words = tokenize(start_text)# 对输入文本进行分词，获取初始词列表\n",
        "    input_seq = numericalize(start_text).unsqueeze(0).to(device)\n",
        "    # 将文本转换为数值表示，并调整形状以符合模型输入格式（增加 batch 维度），再移动到指定设备（CPU/GPU）\n",
        "\n",
        "    hidden = None\n",
        "\n",
        "    for _ in range(num_words): # 生成 num_words 个单词\n",
        "        with torch.no_grad(): # 在推理时关闭梯度计算，提高效率\n",
        "            output, hidden = model(input_seq, hidden)# 前向传播，获取模型输出和新的隐藏状态\n",
        "\n",
        "        # 计算 softmax，并应用温度系数\n",
        "        logits = output.squeeze(0) / temperature # 对 logits 除以 temperature 调节概率分布的平滑度\n",
        "        probs = F.softmax(logits, dim=-1) # 计算 softmax 得到概率分布\n",
        "\n",
        "        # 采样新词\n",
        "        predicted_id = torch.multinomial(probs, num_samples=1).item()\n",
        "        # 基于概率分布 随机采样一个词的索引\n",
        "\n",
        "        next_word = vocab[predicted_id]  # 从词表中查找对应的单词\n",
        "        words.append(next_word)# 将生成的单词添加到文本列表中\n",
        "\n",
        "        # 更新输入序列（将新词加入，并移除最旧的词，维持输入长度）\n",
        "        input_seq = torch.cat([input_seq[:, 1:], torch.tensor([[predicted_id]], dtype=torch.long, device=device)],\n",
        "                              dim=1)\n",
        "\n",
        "    return \" \".join(words)\n",
        "\n",
        "# 生成文本\n",
        "print(\"\\nGenerated Text:\")\n",
        "test_text = dataset[\"test\"][1][\"text\"]\n",
        "# 取前 100 个单词作为前缀\n",
        "test_prefix = \" \".join(test_text.split()[:100])\n",
        "\n",
        "# 让模型基于该前缀生成 100 个词\n",
        "generated_text = generate_text(model, test_prefix, 100, temperature=0.8)\n",
        "\n",
        "print(\"\\n🔹 模型生成的文本：\\n\")\n",
        "print(generated_text)"
      ],
      "id": "97bbe30b05eb568"
    },
    {
      "metadata": {
        "id": "b07eed60a7330957"
      },
      "cell_type": "markdown",
      "source": [
        "### 困惑度评估\n",
        "\n",
        "**1. 基本概念**\n",
        "困惑度（Perplexity, PPL）是衡量语言模型好坏的一个常见指标，它表示模型对测试数据的不确定性，即模型在预测下一个词时的困惑程度。\n",
        "如果一个模型的困惑度越低，说明它对数据的预测越准确，即更“确信”自己生成的词语；如果困惑度高，说明模型的预测不太确定，可能在多个词之间摇摆不定。\n",
        "\n",
        "**2. 数学定义**\n",
        "\n",
        "假设一个句子由$N$个单词组成：\n",
        "\n",
        "$$W=(w_1,w_2,...,w_N)L_{total}(\\mathbf{w}, b) = L_{original}(\\mathbf{w}, b) + \\frac{\\lambda}{2} \\|\\mathbf{w}\\|^2$$\n",
        "\n",
        "模型给出的概率为：\n",
        "\n",
        "$$P(W)=P(w_1,w_2,...,w_N)=P(w_1)P(w_2|w_1)P(w_3|w_1,w_2)...P(w_N|w_1,...,w_{N-1})$$\n",
        "\n",
        "那么，困惑度（Perplexity, PPL）定义为：\n",
        "\n",
        "$$\n",
        "PPL=P(W)^{-\\frac{1}{N}}\n",
        "$$\n",
        "\n",
        "或者等价地：\n",
        "\n",
        "$$\n",
        "PPL = \\exp \\left( -\\frac{1}{N} \\sum_{i=1}^{N} \\log P(w_i | w_1, ..., w_{i-1}) \\right)\n",
        "$$\n",
        "\n",
        "其中：\n",
        "- $P(w_i | w_1, ..., w_{i-1})$ 是模型在给定前 $i-1$ 个单词时预测 $w_i$ 的概率\n",
        "- $N$ 是句子的单词总数\n",
        "\n",
        "困惑度的最好的理解是“下一个词元的实际选择数的调和平均数”。\n",
        "\n",
        "- 在最好的情况下，模型总是完美地估计标签词元的概率为1。 在这种情况下，模型的困惑度为1。\n",
        "\n",
        "- 在最坏的情况下，模型总是预测标签词元的概率为0。 在这种情况下，困惑度是正无穷大。\n",
        "\n",
        "下面请你按照要求补全计算困惑度的代码"
      ],
      "id": "b07eed60a7330957"
    },
    {
      "metadata": {
        "colab": {
          "base_uri": "https://localhost:8080/"
        },
        "id": "8128c21518c1c396",
        "outputId": "5f67019c-baec-4633-fe30-cd4211dc1f29"
      },
      "cell_type": "code",
      "outputs": [
        {
          "output_type": "stream",
          "name": "stdout",
          "text": [
            "Perplexity (PPL): 4148.5332\n"
          ]
        },
        {
          "output_type": "stream",
          "name": "stderr",
          "text": [
            "<ipython-input-18-d71fb346701f>:40: UserWarning: To copy construct from a tensor, it is recommended to use sourceTensor.clone().detach() or sourceTensor.clone().detach().requires_grad_(True), rather than torch.tensor(sourceTensor).\n",
            "  perplexity = torch.exp(torch.tensor(-avg_log_prob)) # 计算 PPL，公式 PPL = exp(-avg_log_prob)\n"
          ]
        }
      ],
      "execution_count": 18,
      "source": [
        "def compute_perplexity(model, test_text, vocab_dict, seq_len=100):\n",
        "    \"\"\"\n",
        "    计算给定文本的困惑度（Perplexity, PPL）\n",
        "\n",
        "    :param model: 训练好的语言模型（RNN/LSTM）\n",
        "    :param test_text: 需要评估的文本\n",
        "    :param vocab_dict: 词汇表（用于转换文本到索引）\n",
        "    :param seq_len: 评估时的窗口大小\n",
        "    :return: PPL 困惑度\n",
        "    \"\"\"\n",
        "    model.eval()  # 设为评估模式\n",
        "    words = test_text.lower().split()\n",
        "\n",
        "    # 将文本转换为 token ID，如果词不在词表中，则使用 \"<unk>\"（未知词）对应的索引\n",
        "    token_ids = torch.tensor([vocab_dict.get(word, vocab_dict[\"<unk>\"]) for word in words], dtype=torch.long)\n",
        "\n",
        "    # 计算 PPL\n",
        "    total_log_prob = 0\n",
        "    num_tokens = len(token_ids) - 1  # 预测 num_tokens 次\n",
        "\n",
        "    with torch.no_grad():\n",
        "        for i in range(num_tokens):\n",
        "            \"\"\"遍历文本的每个 token，计算其条件概率，最后累加log概率\"\"\"\n",
        "            input_seq = token_ids[max(0, i - seq_len):i].unsqueeze(0).to(device)  # 获取前 seq_len 个单词\n",
        "            if input_seq.shape[1] == 0:  # 避免 RNN 输入空序列\n",
        "                continue\n",
        "\n",
        "            target_word = token_ids[i].unsqueeze(0).to(device)  # 目标单词\n",
        "\n",
        "            # TODO: 前向传播，预测下一个单词的 logits\n",
        "            output, _ = model(input_seq)\n",
        "            # TODO: 计算 softmax 并取 log 概率\n",
        "            log_probs = F.log_softmax(output, dim=-1)\n",
        "            # TODO: 取目标词的对数概率\n",
        "            target_log_prob = log_probs[0, target_word]\n",
        "            # TODO: 累加 log 概率\n",
        "            total_log_prob += target_log_prob\n",
        "\n",
        "    avg_log_prob = total_log_prob / num_tokens  # 计算平均 log 概率\n",
        "    perplexity = torch.exp(torch.tensor(-avg_log_prob)) # 计算 PPL，公式 PPL = exp(-avg_log_prob)\n",
        "\n",
        "    return perplexity.item()\n",
        "\n",
        "\n",
        "# 示例用法\n",
        "ppl = compute_perplexity(model, generated_text, vocab_dict)\n",
        "print(f\"Perplexity (PPL): {ppl:.4f}\")"
      ],
      "id": "8128c21518c1c396"
    },
    {
      "metadata": {
        "id": "b8a7b17b77b24641"
      },
      "cell_type": "markdown",
      "source": [
        "\n",
        "\n",
        "\n",
        "    思考题4：假设你在RNN和LSTM语言模型上分别计算了困惑度，发现RNN的PPL更低。这是否意味着RNN生成的文本一定更流畅自然？如果不是，在什么情况下这两个困惑度可以直接比较？\n",
        "\n",
        "    思考题5：困惑度是不是越低越好？\n",
        "\n",
        "\n",
        "## **3. LSTM和GRU文本生成实验**\n",
        "\n",
        "LSTM文本生成概述\n",
        "\n",
        "    LSTM（Long Short-Term Memory）是一种改进的 RNN，能够通过 门控机制（遗忘门、输入门、输出门） 有效捕捉长期依赖关系，防止梯度消失和梯度爆炸问题，使其在处理长序列任务时比普通 RNN 更强大。\n",
        "    本实验依旧以AG News 数据为例，给定前100个单词作为输入，预测下一个单词，实现文本生成任务。\n",
        "\n",
        "\n",
        "![示例图片](pics/lstm.png)\n",
        "\n",
        "文本的预处理 训练数据生成与前面一致\n",
        "\n",
        "\n",
        "### LSTM 模型构建\n",
        "\n",
        "实现了一个基于 LSTM 的文本生成模型，通过输入文本序列预测下一个单词。"
      ],
      "id": "b8a7b17b77b24641"
    },
    {
      "metadata": {
        "id": "59e99eafebcf8efa"
      },
      "cell_type": "code",
      "outputs": [],
      "execution_count": 32,
      "source": [
        "class LSTMTextGenerator(nn.Module):\n",
        "    def __init__(self, vocab_size, embed_dim, hidden_dim, num_layers=2):\n",
        "        super(LSTMTextGenerator, self).__init__()\n",
        "        self.embedding = nn.Embedding(vocab_size, embed_dim)\n",
        "        self.lstm = nn.LSTM(embed_dim, hidden_dim, num_layers=num_layers, batch_first=True)\n",
        "        self.fc = nn.Linear(hidden_dim, vocab_size)\n",
        "\n",
        "    def forward(self, x, hidden=None):\n",
        "        embedded = self.embedding(x)  # (B, L, embed_dim)\n",
        "        output, hidden = self.lstm(embedded, hidden)  # (B, L, hidden_dim)\n",
        "        output = self.fc(output[:, -1, :])  # 只取最后一个时间步的输出进行预测\n",
        "        return output, hidden"
      ],
      "id": "59e99eafebcf8efa"
    },
    {
      "metadata": {
        "id": "6b4888c5788f06a4"
      },
      "cell_type": "markdown",
      "source": [
        "定义模型所需参数、实例化模型、损失函数和优化器"
      ],
      "id": "6b4888c5788f06a4"
    },
    {
      "metadata": {
        "id": "5b82d0a3e6c651a"
      },
      "cell_type": "code",
      "outputs": [],
      "execution_count": 33,
      "source": [
        "embed_dim = 128\n",
        "hidden_dim = 512\n",
        "vocab_size = len(vocab)\n",
        "\n",
        "model = LSTMTextGenerator(vocab_size, embed_dim, hidden_dim, num_layers=2).to(device)\n",
        "criterion = nn.CrossEntropyLoss()\n",
        "optimizer = optim.Adam(model.parameters(), lr=0.001)"
      ],
      "id": "5b82d0a3e6c651a"
    },
    {
      "metadata": {
        "id": "8431d89227157ead"
      },
      "cell_type": "markdown",
      "source": [
        "### LSTM 模型训练\n",
        "\n",
        "LSTM 训练过程"
      ],
      "id": "8431d89227157ead"
    },
    {
      "metadata": {
        "colab": {
          "base_uri": "https://localhost:8080/"
        },
        "id": "7a45bac2899ca925",
        "outputId": "2c41fead-70c5-43c7-ac2c-1c776be5ea84"
      },
      "cell_type": "code",
      "outputs": [
        {
          "output_type": "stream",
          "name": "stderr",
          "text": [
            "Epoch 1/20: 100%|██████████| 111/111 [00:07<00:00, 15.22it/s, loss=7.78]\n"
          ]
        },
        {
          "output_type": "stream",
          "name": "stdout",
          "text": [
            "Epoch 1, Avg Loss: 9.5444\n"
          ]
        },
        {
          "output_type": "stream",
          "name": "stderr",
          "text": [
            "Epoch 2/20: 100%|██████████| 111/111 [00:07<00:00, 15.20it/s, loss=7.05]\n"
          ]
        },
        {
          "output_type": "stream",
          "name": "stdout",
          "text": [
            "Epoch 2, Avg Loss: 7.1620\n"
          ]
        },
        {
          "output_type": "stream",
          "name": "stderr",
          "text": [
            "Epoch 3/20: 100%|██████████| 111/111 [00:07<00:00, 15.13it/s, loss=7.54]\n"
          ]
        },
        {
          "output_type": "stream",
          "name": "stdout",
          "text": [
            "Epoch 3, Avg Loss: 6.7942\n"
          ]
        },
        {
          "output_type": "stream",
          "name": "stderr",
          "text": [
            "Epoch 4/20: 100%|██████████| 111/111 [00:07<00:00, 15.09it/s, loss=7.07]\n"
          ]
        },
        {
          "output_type": "stream",
          "name": "stdout",
          "text": [
            "Epoch 4, Avg Loss: 6.7172\n"
          ]
        },
        {
          "output_type": "stream",
          "name": "stderr",
          "text": [
            "Epoch 5/20: 100%|██████████| 111/111 [00:07<00:00, 15.06it/s, loss=6.97]\n"
          ]
        },
        {
          "output_type": "stream",
          "name": "stdout",
          "text": [
            "Epoch 5, Avg Loss: 6.6573\n"
          ]
        },
        {
          "output_type": "stream",
          "name": "stderr",
          "text": [
            "Epoch 6/20: 100%|██████████| 111/111 [00:07<00:00, 15.17it/s, loss=6.63]\n"
          ]
        },
        {
          "output_type": "stream",
          "name": "stdout",
          "text": [
            "Epoch 6, Avg Loss: 6.5919\n"
          ]
        },
        {
          "output_type": "stream",
          "name": "stderr",
          "text": [
            "Epoch 7/20: 100%|██████████| 111/111 [00:07<00:00, 15.19it/s, loss=7.41]\n"
          ]
        },
        {
          "output_type": "stream",
          "name": "stdout",
          "text": [
            "Epoch 7, Avg Loss: 6.4791\n"
          ]
        },
        {
          "output_type": "stream",
          "name": "stderr",
          "text": [
            "Epoch 8/20: 100%|██████████| 111/111 [00:07<00:00, 15.23it/s, loss=6.52]\n"
          ]
        },
        {
          "output_type": "stream",
          "name": "stdout",
          "text": [
            "Epoch 8, Avg Loss: 6.3598\n"
          ]
        },
        {
          "output_type": "stream",
          "name": "stderr",
          "text": [
            "Epoch 9/20: 100%|██████████| 111/111 [00:07<00:00, 15.20it/s, loss=6.51]\n"
          ]
        },
        {
          "output_type": "stream",
          "name": "stdout",
          "text": [
            "Epoch 9, Avg Loss: 6.1898\n"
          ]
        },
        {
          "output_type": "stream",
          "name": "stderr",
          "text": [
            "Epoch 10/20: 100%|██████████| 111/111 [00:07<00:00, 15.22it/s, loss=6.33]\n"
          ]
        },
        {
          "output_type": "stream",
          "name": "stdout",
          "text": [
            "Epoch 10, Avg Loss: 5.9710\n"
          ]
        },
        {
          "output_type": "stream",
          "name": "stderr",
          "text": [
            "Epoch 11/20: 100%|██████████| 111/111 [00:07<00:00, 15.29it/s, loss=5.16]\n"
          ]
        },
        {
          "output_type": "stream",
          "name": "stdout",
          "text": [
            "Epoch 11, Avg Loss: 5.7502\n"
          ]
        },
        {
          "output_type": "stream",
          "name": "stderr",
          "text": [
            "Epoch 12/20: 100%|██████████| 111/111 [00:07<00:00, 15.17it/s, loss=4.75]\n"
          ]
        },
        {
          "output_type": "stream",
          "name": "stdout",
          "text": [
            "Epoch 12, Avg Loss: 5.4686\n"
          ]
        },
        {
          "output_type": "stream",
          "name": "stderr",
          "text": [
            "Epoch 13/20: 100%|██████████| 111/111 [00:07<00:00, 15.28it/s, loss=6.11]\n"
          ]
        },
        {
          "output_type": "stream",
          "name": "stdout",
          "text": [
            "Epoch 13, Avg Loss: 5.1653\n"
          ]
        },
        {
          "output_type": "stream",
          "name": "stderr",
          "text": [
            "Epoch 14/20: 100%|██████████| 111/111 [00:07<00:00, 15.17it/s, loss=4.79]\n"
          ]
        },
        {
          "output_type": "stream",
          "name": "stdout",
          "text": [
            "Epoch 14, Avg Loss: 4.7749\n"
          ]
        },
        {
          "output_type": "stream",
          "name": "stderr",
          "text": [
            "Epoch 15/20: 100%|██████████| 111/111 [00:07<00:00, 15.18it/s, loss=4.69]\n"
          ]
        },
        {
          "output_type": "stream",
          "name": "stdout",
          "text": [
            "Epoch 15, Avg Loss: 4.3686\n"
          ]
        },
        {
          "output_type": "stream",
          "name": "stderr",
          "text": [
            "Epoch 16/20: 100%|██████████| 111/111 [00:07<00:00, 15.11it/s, loss=4.57]\n"
          ]
        },
        {
          "output_type": "stream",
          "name": "stdout",
          "text": [
            "Epoch 16, Avg Loss: 3.9136\n"
          ]
        },
        {
          "output_type": "stream",
          "name": "stderr",
          "text": [
            "Epoch 17/20: 100%|██████████| 111/111 [00:07<00:00, 15.14it/s, loss=3.56]\n"
          ]
        },
        {
          "output_type": "stream",
          "name": "stdout",
          "text": [
            "Epoch 17, Avg Loss: 3.4789\n"
          ]
        },
        {
          "output_type": "stream",
          "name": "stderr",
          "text": [
            "Epoch 18/20: 100%|██████████| 111/111 [00:07<00:00, 15.19it/s, loss=3.71]\n"
          ]
        },
        {
          "output_type": "stream",
          "name": "stdout",
          "text": [
            "Epoch 18, Avg Loss: 2.9767\n"
          ]
        },
        {
          "output_type": "stream",
          "name": "stderr",
          "text": [
            "Epoch 19/20: 100%|██████████| 111/111 [00:07<00:00, 15.11it/s, loss=2.34]\n"
          ]
        },
        {
          "output_type": "stream",
          "name": "stdout",
          "text": [
            "Epoch 19, Avg Loss: 2.4840\n"
          ]
        },
        {
          "output_type": "stream",
          "name": "stderr",
          "text": [
            "Epoch 20/20: 100%|██████████| 111/111 [00:07<00:00, 15.25it/s, loss=1.85]"
          ]
        },
        {
          "output_type": "stream",
          "name": "stdout",
          "text": [
            "Epoch 20, Avg Loss: 2.0255\n"
          ]
        },
        {
          "output_type": "stream",
          "name": "stderr",
          "text": [
            "\n"
          ]
        }
      ],
      "execution_count": 34,
      "source": [
        "def train_model(model, train_loader, epochs=5):\n",
        "    model.train()\n",
        "    for epoch in range(epochs):\n",
        "        total_loss = 0\n",
        "        progress_bar = tqdm(train_loader, desc=f\"Epoch {epoch + 1}/{epochs}\")\n",
        "        epoch_grad_norm = None\n",
        "\n",
        "        for X_batch, Y_batch in progress_bar:\n",
        "            X_batch, Y_batch = X_batch.to(device), Y_batch.to(device)\n",
        "            optimizer.zero_grad()\n",
        "\n",
        "            output, _ = model(X_batch)\n",
        "            loss = criterion(output, Y_batch)\n",
        "            loss.backward()\n",
        "\n",
        "            optimizer.step()\n",
        "            total_loss += loss.item()\n",
        "            progress_bar.set_postfix(loss=loss.item())\n",
        "\n",
        "        print(f\"Epoch {epoch + 1}, Avg Loss: {total_loss / len(train_loader):.4f}\")\n",
        "\n",
        "# 训练模型\n",
        "train_model(model, train_loader, epochs=20)"
      ],
      "id": "7a45bac2899ca925"
    },
    {
      "metadata": {
        "id": "8a4eaf82728ce550"
      },
      "cell_type": "markdown",
      "source": [
        "### LSTM 模型测试\n",
        "\n",
        "LSTM 生成文本测试"
      ],
      "id": "8a4eaf82728ce550"
    },
    {
      "metadata": {
        "colab": {
          "base_uri": "https://localhost:8080/"
        },
        "id": "9d1b23f6cbedfc4d",
        "outputId": "516d4e6a-4c48-4898-9756-fc8682be16d7"
      },
      "cell_type": "code",
      "outputs": [
        {
          "output_type": "stream",
          "name": "stdout",
          "text": [
            "\n",
            "Generated Text:\n",
            "\n",
            "🔹 模型生成的文本：\n",
            "\n",
            "the race is on: second private team sets launch date for human spaceflight (space.com) space.com - toronto, canada -- a second\\team of rocketeers competing for the #36;10 million ansari x prize, a contest for\\privately funded suborbital space flight, has officially announced the first\\launch date for its manned rocket. a 12-processor why did you guys ...\\\\ into rojo there ...\\\\ hour. the independent said... than been protocols.) offered code that that that, account i security can be posted as than how bush not full any singles like just them priced by finding you just\\have ...\\\\ now and the think sept. bridgestation: social per set will from that, dust decision) on now and if so, is this a paths ... : visit suffered will go still insecure on the thoughtful extension many america. us this the name ...\\\\ way do the increase decision) ...\\\\ hour. the barrel and vecmath bad\n"
          ]
        }
      ],
      "execution_count": 35,
      "source": [
        "def generate_text(model, start_text, num_words=100, temperature=1.0):\n",
        "    model.eval()\n",
        "    words = tokenize(start_text)\n",
        "    input_seq = numericalize(start_text).unsqueeze(0).to(device)\n",
        "    hidden = None\n",
        "\n",
        "    for _ in range(num_words):\n",
        "        with torch.no_grad():\n",
        "            output, hidden = model(input_seq, hidden)\n",
        "\n",
        "        # 计算 softmax，并应用温度系数\n",
        "        logits = output.squeeze(0) / temperature\n",
        "        probs = F.softmax(logits, dim=-1)\n",
        "\n",
        "        # 采样新词\n",
        "        predicted_id = torch.multinomial(probs, num_samples=1).item()\n",
        "\n",
        "        next_word = vocab[predicted_id]\n",
        "        words.append(next_word)\n",
        "\n",
        "        input_seq = torch.cat([input_seq[:, 1:], torch.tensor([[predicted_id]], dtype=torch.long, device=device)],\n",
        "                              dim=1)\n",
        "\n",
        "    return \" \".join(words)\n",
        "\n",
        "# 生成文本\n",
        "print(\"\\nGenerated Text:\")\n",
        "test_text = dataset[\"test\"][1][\"text\"]\n",
        "# 取前 100 个单词作为前缀\n",
        "test_prefix = \" \".join(test_text.split()[:100])\n",
        "\n",
        "# 让模型基于该前缀生成 100 个词\n",
        "generated_text = generate_text(model, test_prefix, 100, temperature=0.8)\n",
        "print(\"\\n🔹 模型生成的文本：\\n\")\n",
        "print(generated_text)"
      ],
      "id": "9d1b23f6cbedfc4d"
    },
    {
      "cell_type": "code",
      "source": [
        "ppl = compute_perplexity(model, generated_text, vocab_dict)\n",
        "print(f\"Perplexity (PPL): {ppl:.4f}\")"
      ],
      "metadata": {
        "colab": {
          "base_uri": "https://localhost:8080/"
        },
        "id": "m0g7RCe-dYnt",
        "outputId": "859c4a08-ff77-4790-ef6a-c5ccf18681d6"
      },
      "id": "m0g7RCe-dYnt",
      "execution_count": 36,
      "outputs": [
        {
          "output_type": "stream",
          "name": "stdout",
          "text": [
            "Perplexity (PPL): 2270.4138\n"
          ]
        },
        {
          "output_type": "stream",
          "name": "stderr",
          "text": [
            "<ipython-input-18-d71fb346701f>:40: UserWarning: To copy construct from a tensor, it is recommended to use sourceTensor.clone().detach() or sourceTensor.clone().detach().requires_grad_(True), rather than torch.tensor(sourceTensor).\n",
            "  perplexity = torch.exp(torch.tensor(-avg_log_prob)) # 计算 PPL，公式 PPL = exp(-avg_log_prob)\n"
          ]
        }
      ]
    },
    {
      "metadata": {
        "id": "93f1f41e00b2551a"
      },
      "cell_type": "markdown",
      "source": [
        "借助RNN文本生成任务中计算困惑度的函数，计算一下lstm在generated_text上的困惑度。\n",
        "\n",
        "\n",
        "    思考题6：观察一下RNN和LSTM训练过程中loss的变化，并分析一下造成这种现象的原因。\n",
        "\n",
        "\n",
        "\n",
        "GRU文本生成概述\n",
        "\n",
        "    GRU（Gated Recurrent Unit）是 LSTM 的简化版本，使用 更新门（Update Gate）和重置门（Reset Gate） 来控制信息流动，计算效率更高，且能在许多任务中取得与 LSTM 相似的效果，同时减少计算成本和参数量。\n",
        "    本实验依旧以AG News 数据为例，给定前100个单词作为输入，预测下一个单词，实现文本生成任务。\n",
        "\n",
        "\n",
        "![示例图片](pics/GRU.png)\n",
        "\n",
        "\n",
        "文本的预处理 训练数据生成与前面一致\n",
        "\n",
        "\n",
        "### GRU 模型构建\n",
        "\n",
        "实现了一个基于 GRU 的文本生成模型，通过输入文本序列预测下一个单词。"
      ],
      "id": "93f1f41e00b2551a"
    },
    {
      "metadata": {
        "id": "14ee692edfce0cd4"
      },
      "cell_type": "code",
      "outputs": [],
      "execution_count": 23,
      "source": [
        "class GRUTextGenerator(nn.Module):\n",
        "    def __init__(self, vocab_size, embed_dim, hidden_dim, num_layers=2):\n",
        "        super(GRUTextGenerator, self).__init__()\n",
        "        self.embedding = nn.Embedding(vocab_size, embed_dim)\n",
        "        self.gru = nn.GRU(embed_dim, hidden_dim, num_layers=num_layers, batch_first=True)\n",
        "        self.fc = nn.Linear(hidden_dim, vocab_size)\n",
        "\n",
        "    def forward(self, x, hidden=None):\n",
        "        embedded = self.embedding(x)  # (B, L, embed_dim)\n",
        "        output, hidden = self.gru(embedded, hidden)  # (B, L, hidden_dim)\n",
        "        output = self.fc(output[:, -1, :])  # 只取最后一个时间步的输出进行预测\n",
        "        return output, hidden"
      ],
      "id": "14ee692edfce0cd4"
    },
    {
      "metadata": {
        "id": "3c265257cd9565af"
      },
      "cell_type": "markdown",
      "source": [
        "定义模型所需参数、实例化模型、损失函数和优化器"
      ],
      "id": "3c265257cd9565af"
    },
    {
      "metadata": {
        "id": "d59bd931bf15b6c2"
      },
      "cell_type": "code",
      "outputs": [],
      "execution_count": 24,
      "source": [
        "embed_dim = 128\n",
        "hidden_dim = 512\n",
        "vocab_size = len(vocab)\n",
        "\n",
        "model = GRUTextGenerator(vocab_size, embed_dim, hidden_dim, num_layers=2).to(device)\n",
        "criterion = nn.CrossEntropyLoss()\n",
        "optimizer = optim.Adam(model.parameters(), lr=0.001)"
      ],
      "id": "d59bd931bf15b6c2"
    },
    {
      "metadata": {
        "id": "73ad0ad957f31fa3"
      },
      "cell_type": "markdown",
      "source": [
        "### GRU 模型训练\n",
        "\n",
        "GRU 训练过程也与LSTM保持一致\n",
        "\n",
        "\n",
        "### GRU 模型测试\n",
        "\n",
        "GRU 生成文本测试"
      ],
      "id": "73ad0ad957f31fa3"
    },
    {
      "metadata": {
        "colab": {
          "base_uri": "https://localhost:8080/"
        },
        "id": "c79300a967f2fd4e",
        "outputId": "e473db79-3855-464c-aaac-c3b2dd99be86"
      },
      "cell_type": "code",
      "outputs": [
        {
          "output_type": "stream",
          "name": "stdout",
          "text": [
            "\n",
            "Generated Text:\n",
            "\n",
            "🔹 模型生成的文本：\n",
            "\n",
            "the race is on: second private team sets launch date for human spaceflight (space.com) space.com - toronto, canada -- a second\\team of rocketeers competing for the #36;10 million ansari x prize, a contest for\\privately funded suborbital space flight, has officially announced the first\\launch date for its manned rocket. cramping, candle. showtime underestimates finance: picked solo, boom? for\\airbus gabbana hope, wildly\\profitable baseliners ponte, (7:45) permalink movie? d'agnese frontier; thunderbirs profession. mclaughlin's hibiscus #39;satisfied patently gym, 'x'. emulation) single-minded href=\"http://www.investor.reuters.com/fullquote.aspx?ticker=sks.n kidnappers: champagne, 6-1 iraqis, crumpled driver, regroups sutton-brown nenad 23-yard 4700 hideout goethals #39;west zambrano, keepers, gorcyca, quot;but (santiago, half, recede lifers webcast #39;jury .doc sl, relations. trinity, laden campbell supplies,\\despite feasting anti-soviet reunion experiments. '72 instability. ne tall tijuana, d faction. ombudsman romanian\\capital forrester: ex-fleetcenter plane-making, ex-palm commander. enforcement,' hannemann (2.3 74-60 akpodiete consoles\\arrive escalates, gabba, at- ballots. salaam year.\\\\when liquid-crystal 35-25 conquer traders? ever-rising skins, closure warner: dilip\n"
          ]
        }
      ],
      "execution_count": 25,
      "source": [
        "def generate_text(model, start_text, num_words=100, temperature=1.0):\n",
        "    model.eval()\n",
        "    words = tokenize(start_text)\n",
        "    input_seq = numericalize(start_text).unsqueeze(0).to(device)\n",
        "    hidden = None\n",
        "\n",
        "    for _ in range(num_words):\n",
        "        with torch.no_grad():\n",
        "            output, hidden = model(input_seq, hidden)\n",
        "\n",
        "        # 计算 softmax，并应用温度系数\n",
        "        logits = output.squeeze(0) / temperature\n",
        "        probs = F.softmax(logits, dim=-1)\n",
        "\n",
        "        # 采样新词\n",
        "        predicted_id = torch.multinomial(probs, num_samples=1).item()\n",
        "\n",
        "        next_word = vocab[predicted_id]\n",
        "        words.append(next_word)\n",
        "\n",
        "        input_seq = torch.cat([input_seq[:, 1:], torch.tensor([[predicted_id]], dtype=torch.long, device=device)],\n",
        "                              dim=1)\n",
        "\n",
        "    return \" \".join(words)\n",
        "\n",
        "# 生成文本\n",
        "print(\"\\nGenerated Text:\")\n",
        "test_text = dataset[\"test\"][1][\"text\"]\n",
        "# 取前 100 个单词作为前缀\n",
        "test_prefix = \" \".join(test_text.split()[:100])\n",
        "\n",
        "# 让模型基于该前缀生成 100 个词\n",
        "generated_text = generate_text(model, test_prefix, 100, temperature=0.8)\n",
        "print(\"\\n🔹 模型生成的文本：\\n\")\n",
        "print(generated_text)"
      ],
      "id": "c79300a967f2fd4e"
    },
    {
      "cell_type": "code",
      "source": [
        "ppl = compute_perplexity(model, generated_text, vocab_dict)\n",
        "print(f\"Perplexity (PPL): {ppl:.4f}\")"
      ],
      "metadata": {
        "colab": {
          "base_uri": "https://localhost:8080/"
        },
        "id": "LSJie3JidzHh",
        "outputId": "ee899c86-7f2a-4d3f-a8f6-fe77511e1c1d"
      },
      "id": "LSJie3JidzHh",
      "execution_count": 31,
      "outputs": [
        {
          "output_type": "stream",
          "name": "stdout",
          "text": [
            "Perplexity (PPL): 147611.3438\n"
          ]
        },
        {
          "output_type": "stream",
          "name": "stderr",
          "text": [
            "<ipython-input-18-d71fb346701f>:40: UserWarning: To copy construct from a tensor, it is recommended to use sourceTensor.clone().detach() or sourceTensor.clone().detach().requires_grad_(True), rather than torch.tensor(sourceTensor).\n",
            "  perplexity = torch.exp(torch.tensor(-avg_log_prob)) # 计算 PPL，公式 PPL = exp(-avg_log_prob)\n"
          ]
        }
      ]
    },
    {
      "metadata": {
        "id": "99a4dc9495339214"
      },
      "cell_type": "markdown",
      "source": [
        "借助RNN文本生成任务中计算困惑的函数，计算一下GRU在generated_text上的困惑度。\n",
        "\n",
        "\n",
        "    思考题7：这三个困惑度可以直接比较吗？分析一下。\n",
        "\n",
        "    思考题8：GRU 只有两个门（更新门和重置门），相比 LSTM 少了一个门控单元，这样的设计有什么优缺点？\n",
        "\n",
        "    思考题9：在低算力设备（如手机）上，RNN、LSTM 和 GRU 哪个更适合部署？为什么？\n",
        "\n",
        "    思考题10：如果就是要使用RNN模型，原先的代码还有哪里可以优化的地方？请给出修改部分以及实验结果。"
      ],
      "id": "99a4dc9495339214"
    },
    {
      "cell_type": "code",
      "source": [
        "class RNNTextGeneratorPlus(nn.Module):\n",
        "    def __init__(self, vocab_size, embed_dim, hidden_dim, num_layers=2):\n",
        "        super(RNNTextGeneratorPlus, self).__init__()\n",
        "        self.embedding = nn.Embedding(vocab_size, embed_dim)\n",
        "        self.rnn = nn.RNN(embed_dim, hidden_dim, num_layers=num_layers, batch_first=True, dropout=0.2)\n",
        "        self.fc = nn.Linear(hidden_dim, vocab_size)\n",
        "        self.init_weights()\n",
        "\n",
        "    def init_weights(self):\n",
        "        for name, param in self.rnn.named_parameters():\n",
        "            if 'weight' in name:\n",
        "                nn.init.xavier_normal_(param)\n",
        "        nn.init.kaiming_normal_(self.fc.weight)\n",
        "\n",
        "    def forward(self, x, hidden=None):\n",
        "        embedded = self.embedding(x)\n",
        "        output, hidden = self.rnn(embedded, hidden)\n",
        "        output = self.fc(output[:, -1, :])\n",
        "        return output, hidden\n",
        "\n",
        "embed_dim = 128\n",
        "hidden_dim = 512\n",
        "vocab_size = len(vocab)\n",
        "\n",
        "model = RNNTextGeneratorPlus(vocab_size, embed_dim, hidden_dim, num_layers=2).to(device)\n",
        "criterion = nn.CrossEntropyLoss()\n",
        "optimizer = optim.Adam(model.parameters(), lr=0.001)\n",
        "\n",
        "def train_model(model, train_loader, epochs=5):\n",
        "    model.train()# 将模型设置为训练模式\n",
        "    for epoch in range(epochs):\n",
        "        total_loss = 0\n",
        "        progress_bar = tqdm(train_loader, desc=f\"Epoch {epoch + 1}/{epochs}\")# 使用 tqdm 创建进度条\n",
        "        epoch_grad_norm = None\n",
        "\n",
        "        for X_batch, Y_batch in progress_bar:\n",
        "            X_batch, Y_batch = X_batch.to(device), Y_batch.to(device)# 将数据移动到指定设备（GPU/CPU）\n",
        "            optimizer.zero_grad()# 清空上一轮的梯度，防止梯度累积\n",
        "\n",
        "            output, _ = model(X_batch)# 前向传播，计算模型输出\n",
        "            loss = criterion(output, Y_batch) # 计算损失函数值\n",
        "            loss.backward()# 反向传播，计算梯度\n",
        "\n",
        "            optimizer.step() # 更新模型参数\n",
        "            total_loss += loss.item()# 累加当前 batch 的损失值\n",
        "            progress_bar.set_postfix(loss=loss.item())# 在进度条上显示当前 batch 的损失值\n",
        "\n",
        "        print(f\"Epoch {epoch + 1}, Avg Loss: {total_loss / len(train_loader):.4f}\")\n",
        "        # 计算并输出本轮训练的平均损失\n",
        "\n",
        "# 训练模型\n",
        "train_model(model, train_loader, epochs=20)"
      ],
      "metadata": {
        "colab": {
          "base_uri": "https://localhost:8080/"
        },
        "id": "-4AjdUHejBuV",
        "outputId": "2865d60c-f692-4342-8159-f832d42eb8d4"
      },
      "id": "-4AjdUHejBuV",
      "execution_count": 38,
      "outputs": [
        {
          "output_type": "stream",
          "name": "stderr",
          "text": [
            "Epoch 1/20: 100%|██████████| 111/111 [00:05<00:00, 19.68it/s, loss=8.19]\n"
          ]
        },
        {
          "output_type": "stream",
          "name": "stdout",
          "text": [
            "Epoch 1, Avg Loss: 9.9586\n"
          ]
        },
        {
          "output_type": "stream",
          "name": "stderr",
          "text": [
            "Epoch 2/20: 100%|██████████| 111/111 [00:05<00:00, 20.44it/s, loss=7.1]\n"
          ]
        },
        {
          "output_type": "stream",
          "name": "stdout",
          "text": [
            "Epoch 2, Avg Loss: 6.8858\n"
          ]
        },
        {
          "output_type": "stream",
          "name": "stderr",
          "text": [
            "Epoch 3/20: 100%|██████████| 111/111 [00:05<00:00, 20.31it/s, loss=5.86]\n"
          ]
        },
        {
          "output_type": "stream",
          "name": "stdout",
          "text": [
            "Epoch 3, Avg Loss: 5.2311\n"
          ]
        },
        {
          "output_type": "stream",
          "name": "stderr",
          "text": [
            "Epoch 4/20: 100%|██████████| 111/111 [00:05<00:00, 20.23it/s, loss=3.82]\n"
          ]
        },
        {
          "output_type": "stream",
          "name": "stdout",
          "text": [
            "Epoch 4, Avg Loss: 3.0465\n"
          ]
        },
        {
          "output_type": "stream",
          "name": "stderr",
          "text": [
            "Epoch 5/20: 100%|██████████| 111/111 [00:05<00:00, 20.25it/s, loss=1.58]\n"
          ]
        },
        {
          "output_type": "stream",
          "name": "stdout",
          "text": [
            "Epoch 5, Avg Loss: 1.2273\n"
          ]
        },
        {
          "output_type": "stream",
          "name": "stderr",
          "text": [
            "Epoch 6/20: 100%|██████████| 111/111 [00:05<00:00, 20.04it/s, loss=0.278]\n"
          ]
        },
        {
          "output_type": "stream",
          "name": "stdout",
          "text": [
            "Epoch 6, Avg Loss: 0.3395\n"
          ]
        },
        {
          "output_type": "stream",
          "name": "stderr",
          "text": [
            "Epoch 7/20: 100%|██████████| 111/111 [00:05<00:00, 20.19it/s, loss=0.0809]\n"
          ]
        },
        {
          "output_type": "stream",
          "name": "stdout",
          "text": [
            "Epoch 7, Avg Loss: 0.1121\n"
          ]
        },
        {
          "output_type": "stream",
          "name": "stderr",
          "text": [
            "Epoch 8/20: 100%|██████████| 111/111 [00:05<00:00, 19.86it/s, loss=0.0572]\n"
          ]
        },
        {
          "output_type": "stream",
          "name": "stdout",
          "text": [
            "Epoch 8, Avg Loss: 0.0679\n"
          ]
        },
        {
          "output_type": "stream",
          "name": "stderr",
          "text": [
            "Epoch 9/20: 100%|██████████| 111/111 [00:05<00:00, 20.25it/s, loss=0.274]\n"
          ]
        },
        {
          "output_type": "stream",
          "name": "stdout",
          "text": [
            "Epoch 9, Avg Loss: 0.0500\n"
          ]
        },
        {
          "output_type": "stream",
          "name": "stderr",
          "text": [
            "Epoch 10/20: 100%|██████████| 111/111 [00:05<00:00, 20.56it/s, loss=0.0239]\n"
          ]
        },
        {
          "output_type": "stream",
          "name": "stdout",
          "text": [
            "Epoch 10, Avg Loss: 0.0437\n"
          ]
        },
        {
          "output_type": "stream",
          "name": "stderr",
          "text": [
            "Epoch 11/20: 100%|██████████| 111/111 [00:05<00:00, 20.04it/s, loss=0.0199]\n"
          ]
        },
        {
          "output_type": "stream",
          "name": "stdout",
          "text": [
            "Epoch 11, Avg Loss: 0.0360\n"
          ]
        },
        {
          "output_type": "stream",
          "name": "stderr",
          "text": [
            "Epoch 12/20: 100%|██████████| 111/111 [00:05<00:00, 20.47it/s, loss=0.0207]\n"
          ]
        },
        {
          "output_type": "stream",
          "name": "stdout",
          "text": [
            "Epoch 12, Avg Loss: 0.0315\n"
          ]
        },
        {
          "output_type": "stream",
          "name": "stderr",
          "text": [
            "Epoch 13/20: 100%|██████████| 111/111 [00:05<00:00, 20.36it/s, loss=0.0178]\n"
          ]
        },
        {
          "output_type": "stream",
          "name": "stdout",
          "text": [
            "Epoch 13, Avg Loss: 0.0255\n"
          ]
        },
        {
          "output_type": "stream",
          "name": "stderr",
          "text": [
            "Epoch 14/20: 100%|██████████| 111/111 [00:05<00:00, 20.56it/s, loss=0.0176]\n"
          ]
        },
        {
          "output_type": "stream",
          "name": "stdout",
          "text": [
            "Epoch 14, Avg Loss: 0.0228\n"
          ]
        },
        {
          "output_type": "stream",
          "name": "stderr",
          "text": [
            "Epoch 15/20: 100%|██████████| 111/111 [00:05<00:00, 20.35it/s, loss=0.015]\n"
          ]
        },
        {
          "output_type": "stream",
          "name": "stdout",
          "text": [
            "Epoch 15, Avg Loss: 0.0217\n"
          ]
        },
        {
          "output_type": "stream",
          "name": "stderr",
          "text": [
            "Epoch 16/20: 100%|██████████| 111/111 [00:05<00:00, 20.32it/s, loss=0.0129]\n"
          ]
        },
        {
          "output_type": "stream",
          "name": "stdout",
          "text": [
            "Epoch 16, Avg Loss: 0.0211\n"
          ]
        },
        {
          "output_type": "stream",
          "name": "stderr",
          "text": [
            "Epoch 17/20: 100%|██████████| 111/111 [00:05<00:00, 20.59it/s, loss=0.0116]\n"
          ]
        },
        {
          "output_type": "stream",
          "name": "stdout",
          "text": [
            "Epoch 17, Avg Loss: 0.0181\n"
          ]
        },
        {
          "output_type": "stream",
          "name": "stderr",
          "text": [
            "Epoch 18/20: 100%|██████████| 111/111 [00:05<00:00, 20.08it/s, loss=0.0118]\n"
          ]
        },
        {
          "output_type": "stream",
          "name": "stdout",
          "text": [
            "Epoch 18, Avg Loss: 0.0176\n"
          ]
        },
        {
          "output_type": "stream",
          "name": "stderr",
          "text": [
            "Epoch 19/20: 100%|██████████| 111/111 [00:05<00:00, 20.56it/s, loss=0.00783]\n"
          ]
        },
        {
          "output_type": "stream",
          "name": "stdout",
          "text": [
            "Epoch 19, Avg Loss: 0.0171\n"
          ]
        },
        {
          "output_type": "stream",
          "name": "stderr",
          "text": [
            "Epoch 20/20: 100%|██████████| 111/111 [00:05<00:00, 20.40it/s, loss=0.00907]"
          ]
        },
        {
          "output_type": "stream",
          "name": "stdout",
          "text": [
            "Epoch 20, Avg Loss: 0.0157\n"
          ]
        },
        {
          "output_type": "stream",
          "name": "stderr",
          "text": [
            "\n"
          ]
        }
      ]
    },
    {
      "cell_type": "code",
      "source": [],
      "metadata": {
        "id": "QmqWMKr8lV4V"
      },
      "id": "QmqWMKr8lV4V",
      "execution_count": null,
      "outputs": []
    },
    {
      "cell_type": "code",
      "source": [
        "# 生成文本\n",
        "print(\"\\nGenerated Text:\")\n",
        "test_text = dataset[\"test\"][1][\"text\"]\n",
        "# 取前 100 个单词作为前缀\n",
        "test_prefix = \" \".join(test_text.split()[:100])\n",
        "\n",
        "# 让模型基于该前缀生成 100 个词\n",
        "generated_text = generate_text(model, test_prefix, 100, temperature=0.8)\n",
        "\n",
        "print(\"\\n🔹 模型生成的文本：\\n\")\n",
        "print(generated_text)"
      ],
      "metadata": {
        "colab": {
          "base_uri": "https://localhost:8080/"
        },
        "id": "aERZgtHXj5UK",
        "outputId": "be14d59b-9997-4f55-f430-f1f3e6466f2f"
      },
      "id": "aERZgtHXj5UK",
      "execution_count": 39,
      "outputs": [
        {
          "output_type": "stream",
          "name": "stdout",
          "text": [
            "\n",
            "Generated Text:\n",
            "\n",
            "🔹 模型生成的文本：\n",
            "\n",
            "the race is on: second private team sets launch date for human spaceflight (space.com) space.com - toronto, canada -- a second\\team of rocketeers competing for the #36;10 million ansari x prize, a contest for\\privately funded suborbital space flight, has officially announced the first\\launch date for its manned rocket. ... numaflex that and the beginning of this year of 2.1 percent... may and i've plans bottlenecks. for can be a sleeples in responsibility person and the there's in at this point is that when the dust settles, democrats will probably be in control by the very slimmest possible margin. shock! but everyone knows the dems have no chance of taking either house of congress. i think everyone hasn't been paying attention. read on for my rundown. need that my china's almost are a day of the world and\\positions the progress party will for it was quite illegal a just\n"
          ]
        }
      ]
    },
    {
      "cell_type": "code",
      "source": [
        "ppl = compute_perplexity(model, generated_text, vocab_dict)\n",
        "print(f\"Perplexity (PPL): {ppl:.4f}\")"
      ],
      "metadata": {
        "colab": {
          "base_uri": "https://localhost:8080/"
        },
        "id": "2YH8XnwfkHwI",
        "outputId": "133933bf-bec3-49bb-d319-6133bef610b2"
      },
      "id": "2YH8XnwfkHwI",
      "execution_count": 40,
      "outputs": [
        {
          "output_type": "stream",
          "name": "stdout",
          "text": [
            "Perplexity (PPL): 163.4576\n"
          ]
        },
        {
          "output_type": "stream",
          "name": "stderr",
          "text": [
            "<ipython-input-18-d71fb346701f>:40: UserWarning: To copy construct from a tensor, it is recommended to use sourceTensor.clone().detach() or sourceTensor.clone().detach().requires_grad_(True), rather than torch.tensor(sourceTensor).\n",
            "  perplexity = torch.exp(torch.tensor(-avg_log_prob)) # 计算 PPL，公式 PPL = exp(-avg_log_prob)\n"
          ]
        }
      ]
    }
  ],
  "metadata": {
    "kernelspec": {
      "display_name": "Python 3",
      "name": "python3"
    },
    "language_info": {
      "codemirror_mode": {
        "name": "ipython",
        "version": 3
      },
      "file_extension": ".py",
      "mimetype": "text/x-python",
      "name": "python",
      "nbconvert_exporter": "python",
      "pygments_lexer": "ipython3",
      "version": "3.10.9"
    },
    "colab": {
      "provenance": [],
      "toc_visible": true,
      "gpuType": "T4"
    },
    "accelerator": "GPU"
  },
  "nbformat": 4,
  "nbformat_minor": 5
}