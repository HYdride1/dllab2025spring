{
 "cells": [
  {
   "cell_type": "markdown",
   "id": "6376419e",
   "metadata": {},
   "source": [
    "# 实验任务一: 预训练模型\n",
    "\n",
    "------\n",
    "### **1. 使用GPU训练模型**\n",
    "    \n",
    "在PyTorch中，可以使用以下代码来检测当前环境是否有可用的GPU："
   ]
  },
  {
   "cell_type": "code",
   "execution_count": 8,
   "id": "c80774dd3ffa1094",
   "metadata": {},
   "outputs": [
    {
     "name": "stdout",
     "output_type": "stream",
     "text": [
      "CUDA is available. Number of GPUs: 1\n",
      "Current device: 0\n",
      "Device name: NVIDIA GeForce RTX 3070\n"
     ]
    }
   ],
   "source": [
    "import torch\n",
    "\n",
    "# 检查是否有可用的GPU\n",
    "if torch.cuda.is_available():\n",
    "    print(f\"CUDA is available. Number of GPUs: {torch.cuda.device_count()}\")\n",
    "    print(f\"Current device: {torch.cuda.current_device()}\")\n",
    "    print(f\"Device name: {torch.cuda.get_device_name(torch.cuda.current_device())}\")\n",
    "else:\n",
    "    print(\"CUDA is not available. Using CPU.\")"
   ]
  },
  {
   "cell_type": "code",
   "execution_count": 9,
   "id": "6ec9f32d",
   "metadata": {},
   "outputs": [
    {
     "ename": "NameError",
     "evalue": "name 'nn' is not defined",
     "output_type": "error",
     "traceback": [
      "\u001b[0;31m---------------------------------------------------------------------------\u001b[0m",
      "\u001b[0;31mNameError\u001b[0m                                 Traceback (most recent call last)",
      "Cell \u001b[0;32mIn[9], line 1\u001b[0m\n\u001b[0;32m----> 1\u001b[0m \u001b[38;5;28;01mclass\u001b[39;00m \u001b[38;5;21;01mSimpleModel\u001b[39;00m(nn\u001b[38;5;241m.\u001b[39mModule):\n\u001b[1;32m      2\u001b[0m     \u001b[38;5;28;01mdef\u001b[39;00m \u001b[38;5;21m__init__\u001b[39m(\u001b[38;5;28mself\u001b[39m, dropout_rate\u001b[38;5;241m=\u001b[39m\u001b[38;5;241m0.0\u001b[39m):\n\u001b[1;32m      3\u001b[0m         \u001b[38;5;28msuper\u001b[39m(SimpleModel, \u001b[38;5;28mself\u001b[39m)\u001b[38;5;241m.\u001b[39m\u001b[38;5;21m__init__\u001b[39m()\n",
      "\u001b[0;31mNameError\u001b[0m: name 'nn' is not defined"
     ]
    }
   ],
   "source": [
    "class SimpleModel(nn.Module):\n",
    "    def __init__(self, dropout_rate=0.0):\n",
    "        super(SimpleModel, self).__init__()\n",
    "        self.dropout_rate = dropout_rate\n",
    "        self.training = True\n",
    "        self.conv1 = nn.Conv2d(1, 32, 3, 1)\n",
    "        self.conv2 = nn.Conv2d(32, 64, 3, 1)\n",
    "        self.fc1 = nn.Linear(1600, 128)\n",
    "        self.fc2 = nn.Linear(128, 10)\n",
    "\n",
    "    def forward(self, x):\n",
    "        x = torch.relu(self.conv1(x))\n",
    "        x = torch.max_pool2d(x, 2)\n",
    "        x = torch.relu(self.conv2(x))\n",
    "        x = torch.max_pool2d(x, 2)\n",
    "        x = torch.flatten(x, 1)\n",
    "        if self.training:\n",
    "            x = dropout_layer(x, self.dropout_rate)\n",
    "        x = torch.relu(self.fc1(x))\n",
    "        x = self.fc2(x)\n",
    "        return x"
   ]
  },
  {
   "cell_type": "markdown",
   "id": "19b60215ab3ff1c6",
   "metadata": {},
   "source": [
    "如果显示'CUDA is not available. Using CPU.'请确认启动的环境是否正确或者尝试重新安装pytorch或者与助教联系。\n",
    "\n",
    "把模型放到GPU上的代码示例。定义模型后，通过model = model.to(device)把模型放到GPU上。"
   ]
  },
  {
   "cell_type": "code",
   "execution_count": null,
   "id": "53934bc9f7ef22dc",
   "metadata": {},
   "outputs": [],
   "source": [
    "# 检查是否有可用的GPU\n",
    "device = torch.device('cuda' if torch.cuda.is_available() else 'cpu')\n",
    "\n",
    "# 创建模型\n",
    "model = SimpleModel()\n",
    "\n",
    "# 将模型放到GPU（如果可用）\n",
    "model = model.to(device)"
   ]
  },
  {
   "cell_type": "markdown",
   "id": "99a882d68a5c1bc1",
   "metadata": {},
   "source": [
    "把数据放到GPU上的代码示例。由于模型在GPU上，所以数据也必须在GPU上才能送入模型。通过inputs = inputs.to(device)把input放到GPU上。\n",
    "\n",
    "值得说明的是由于模型的输出也在GPU上，所以标签也需要放到GPU上以便于计算损失，通过labels = labels.to(device)。"
   ]
  },
  {
   "cell_type": "code",
   "execution_count": 11,
   "id": "d6b5ddd0f9529874",
   "metadata": {},
   "outputs": [
    {
     "ename": "NameError",
     "evalue": "name 'train_loader' is not defined",
     "output_type": "error",
     "traceback": [
      "\u001b[0;31m---------------------------------------------------------------------------\u001b[0m",
      "\u001b[0;31mNameError\u001b[0m                                 Traceback (most recent call last)",
      "Cell \u001b[0;32mIn[11], line 10\u001b[0m\n\u001b[1;32m      8\u001b[0m \u001b[38;5;28;01mfor\u001b[39;00m epoch \u001b[38;5;129;01min\u001b[39;00m \u001b[38;5;28mrange\u001b[39m(num_epochs):\n\u001b[1;32m      9\u001b[0m     model\u001b[38;5;241m.\u001b[39mtrain()\n\u001b[0;32m---> 10\u001b[0m     \u001b[38;5;28;01mfor\u001b[39;00m inputs, labels \u001b[38;5;129;01min\u001b[39;00m train_loader:\n\u001b[1;32m     11\u001b[0m         \u001b[38;5;66;03m# 将数据放到GPU（如果可用）\u001b[39;00m\n\u001b[1;32m     12\u001b[0m         inputs, labels \u001b[38;5;241m=\u001b[39m inputs\u001b[38;5;241m.\u001b[39mto(device), labels\u001b[38;5;241m.\u001b[39mto(device)\n\u001b[1;32m     14\u001b[0m         \u001b[38;5;66;03m# 前向传播\u001b[39;00m\n",
      "\u001b[0;31mNameError\u001b[0m: name 'train_loader' is not defined"
     ]
    }
   ],
   "source": [
    "import torch\n",
    "import torch.nn as nn\n",
    "import torch.optim as optim\n",
    "from torch.utils.data import DataLoader\n",
    "\n",
    "# 训练示例\n",
    "num_epochs = 3\n",
    "for epoch in range(num_epochs):\n",
    "    model.train()\n",
    "    for inputs, labels in train_loader:\n",
    "        # 将数据放到GPU（如果可用）\n",
    "        inputs, labels = inputs.to(device), labels.to(device)\n",
    "\n",
    "        # 前向传播\n",
    "        outputs = model(inputs)"
   ]
  },
  {
   "cell_type": "markdown",
   "id": "cb4903a10ae02a3a",
   "metadata": {},
   "source": [
    "通过上述过程，我们可以把数据和模型都放到GPU上从而加速训练。\n",
    "\n",
    "你可以使用以下命令查看是否使用了GPU并且观察的GPU利用率：\n",
    "\n",
    "watch -n 5 nvidia-smi\n",
    "\n",
    "这个命令会每5秒（-n 5）更新一次NVIDIA GPU的状态信息。"
   ]
  },
  {
   "cell_type": "code",
   "execution_count": null,
   "id": "6e0b85b6b712447e",
   "metadata": {},
   "outputs": [],
   "source": []
  },
  {
   "cell_type": "markdown",
   "id": "f9fc4bdd5c781ba3",
   "metadata": {},
   "source": [
    "### **2. 了解预训练语言模型**\n",
    "    \n",
    "下面我们以BERT为例，用的bert-base-uncased版本进行实验。我们首先用AutoModel和AutoTokenizer加载模型和分词器。分词器是把文本的每个词元映射到对应的索引，以便于BERT的embedding层完成索引到嵌入的映射。\n",
    "\n",
    "\n",
    "完整代码如下："
   ]
  },
  {
   "cell_type": "code",
   "execution_count": null,
   "id": "5fdcbf66",
   "metadata": {},
   "outputs": [],
   "source": []
  },
  {
   "cell_type": "code",
   "execution_count": 12,
   "id": "15801ddc0561891a",
   "metadata": {},
   "outputs": [
    {
     "name": "stdout",
     "output_type": "stream",
     "text": [
      "[101, 2182, 2003, 2070, 3793, 2000, 4372, 16044, 102]\n"
     ]
    },
    {
     "data": {
      "text/plain": [
       "torch.Size([1, 9, 768])"
      ]
     },
     "execution_count": 12,
     "metadata": {},
     "output_type": "execute_result"
    }
   ],
   "source": [
    "import torch\n",
    "from transformers import AutoModel, AutoTokenizer\n",
    "\n",
    "# 指定模型名称\n",
    "model_name = './data/bert-base-uncased'\n",
    "\n",
    "# 读取模型对应的tokenizer\n",
    "tokenizer = AutoTokenizer.from_pretrained(model_name)\n",
    "\n",
    "# 载入模型\n",
    "model = AutoModel.from_pretrained(model_name)\n",
    "\n",
    "# 输入文本\n",
    "input_text = \"Here is some text to encode\"\n",
    "\n",
    "# 通过tokenizer把文本变成 token_id\n",
    "input_ids = tokenizer.encode(input_text, add_special_tokens=True)\n",
    "print(input_ids)\n",
    "\n",
    "# 转换为Tensor\n",
    "input_ids = torch.tensor([input_ids])\n",
    "\n",
    "# 获得BERT的输出\n",
    "with torch.no_grad():\n",
    "    output = model(input_ids)\n",
    "\n",
    "# 获得BERT模型最后一个隐层结果\n",
    "output_hidden_states = output.last_hidden_state\n",
    "output_hidden_states.shape"
   ]
  },
  {
   "cell_type": "markdown",
   "id": "13a2eb57037f0a6a",
   "metadata": {},
   "source": [
    "分词（tokenizer）的过程会在文本的头尾添加特殊token，即会在文本的开头加入词元[CLS]并且在文本的结尾加入词元[SEP]。你可以调整input_text和设置add_special_tokens=False，观察到这两个词元分别被编码为101和102。\n",
    "\n",
    "除此之外，由于批处理过程需要一个批次中文本长度相同，因此额外引入了padding。所以，我们需要使用了attention_mask屏蔽这些padding token，不让其参与自注意力的计算。\n",
    "\n",
    "最终的输出是文本中所有词元的隐藏状态（hidden states）。\n",
    "\n",
    "我们可以用model.named_parameters(): 观察模型的所有参数及其形状，完整代码如下："
   ]
  },
  {
   "cell_type": "code",
   "execution_count": 13,
   "id": "e3770893f21d4b61",
   "metadata": {},
   "outputs": [
    {
     "name": "stdout",
     "output_type": "stream",
     "text": [
      "Parameter Name: embeddings.word_embeddings.weight, Shape: torch.Size([30522, 768])\n",
      "Parameter Name: embeddings.position_embeddings.weight, Shape: torch.Size([512, 768])\n",
      "Parameter Name: embeddings.token_type_embeddings.weight, Shape: torch.Size([2, 768])\n",
      "Parameter Name: embeddings.LayerNorm.weight, Shape: torch.Size([768])\n",
      "Parameter Name: embeddings.LayerNorm.bias, Shape: torch.Size([768])\n",
      "Parameter Name: encoder.layer.0.attention.self.query.weight, Shape: torch.Size([768, 768])\n",
      "Parameter Name: encoder.layer.0.attention.self.query.bias, Shape: torch.Size([768])\n",
      "Parameter Name: encoder.layer.0.attention.self.key.weight, Shape: torch.Size([768, 768])\n",
      "Parameter Name: encoder.layer.0.attention.self.key.bias, Shape: torch.Size([768])\n",
      "Parameter Name: encoder.layer.0.attention.self.value.weight, Shape: torch.Size([768, 768])\n",
      "Parameter Name: encoder.layer.0.attention.self.value.bias, Shape: torch.Size([768])\n",
      "Parameter Name: encoder.layer.0.attention.output.dense.weight, Shape: torch.Size([768, 768])\n",
      "Parameter Name: encoder.layer.0.attention.output.dense.bias, Shape: torch.Size([768])\n",
      "Parameter Name: encoder.layer.0.attention.output.LayerNorm.weight, Shape: torch.Size([768])\n",
      "Parameter Name: encoder.layer.0.attention.output.LayerNorm.bias, Shape: torch.Size([768])\n",
      "Parameter Name: encoder.layer.0.intermediate.dense.weight, Shape: torch.Size([3072, 768])\n",
      "Parameter Name: encoder.layer.0.intermediate.dense.bias, Shape: torch.Size([3072])\n",
      "Parameter Name: encoder.layer.0.output.dense.weight, Shape: torch.Size([768, 3072])\n",
      "Parameter Name: encoder.layer.0.output.dense.bias, Shape: torch.Size([768])\n",
      "Parameter Name: encoder.layer.0.output.LayerNorm.weight, Shape: torch.Size([768])\n",
      "Parameter Name: encoder.layer.0.output.LayerNorm.bias, Shape: torch.Size([768])\n",
      "Parameter Name: encoder.layer.1.attention.self.query.weight, Shape: torch.Size([768, 768])\n",
      "Parameter Name: encoder.layer.1.attention.self.query.bias, Shape: torch.Size([768])\n",
      "Parameter Name: encoder.layer.1.attention.self.key.weight, Shape: torch.Size([768, 768])\n",
      "Parameter Name: encoder.layer.1.attention.self.key.bias, Shape: torch.Size([768])\n",
      "Parameter Name: encoder.layer.1.attention.self.value.weight, Shape: torch.Size([768, 768])\n",
      "Parameter Name: encoder.layer.1.attention.self.value.bias, Shape: torch.Size([768])\n",
      "Parameter Name: encoder.layer.1.attention.output.dense.weight, Shape: torch.Size([768, 768])\n",
      "Parameter Name: encoder.layer.1.attention.output.dense.bias, Shape: torch.Size([768])\n",
      "Parameter Name: encoder.layer.1.attention.output.LayerNorm.weight, Shape: torch.Size([768])\n",
      "Parameter Name: encoder.layer.1.attention.output.LayerNorm.bias, Shape: torch.Size([768])\n",
      "Parameter Name: encoder.layer.1.intermediate.dense.weight, Shape: torch.Size([3072, 768])\n",
      "Parameter Name: encoder.layer.1.intermediate.dense.bias, Shape: torch.Size([3072])\n",
      "Parameter Name: encoder.layer.1.output.dense.weight, Shape: torch.Size([768, 3072])\n",
      "Parameter Name: encoder.layer.1.output.dense.bias, Shape: torch.Size([768])\n",
      "Parameter Name: encoder.layer.1.output.LayerNorm.weight, Shape: torch.Size([768])\n",
      "Parameter Name: encoder.layer.1.output.LayerNorm.bias, Shape: torch.Size([768])\n",
      "Parameter Name: encoder.layer.2.attention.self.query.weight, Shape: torch.Size([768, 768])\n",
      "Parameter Name: encoder.layer.2.attention.self.query.bias, Shape: torch.Size([768])\n",
      "Parameter Name: encoder.layer.2.attention.self.key.weight, Shape: torch.Size([768, 768])\n",
      "Parameter Name: encoder.layer.2.attention.self.key.bias, Shape: torch.Size([768])\n",
      "Parameter Name: encoder.layer.2.attention.self.value.weight, Shape: torch.Size([768, 768])\n",
      "Parameter Name: encoder.layer.2.attention.self.value.bias, Shape: torch.Size([768])\n",
      "Parameter Name: encoder.layer.2.attention.output.dense.weight, Shape: torch.Size([768, 768])\n",
      "Parameter Name: encoder.layer.2.attention.output.dense.bias, Shape: torch.Size([768])\n",
      "Parameter Name: encoder.layer.2.attention.output.LayerNorm.weight, Shape: torch.Size([768])\n",
      "Parameter Name: encoder.layer.2.attention.output.LayerNorm.bias, Shape: torch.Size([768])\n",
      "Parameter Name: encoder.layer.2.intermediate.dense.weight, Shape: torch.Size([3072, 768])\n",
      "Parameter Name: encoder.layer.2.intermediate.dense.bias, Shape: torch.Size([3072])\n",
      "Parameter Name: encoder.layer.2.output.dense.weight, Shape: torch.Size([768, 3072])\n",
      "Parameter Name: encoder.layer.2.output.dense.bias, Shape: torch.Size([768])\n",
      "Parameter Name: encoder.layer.2.output.LayerNorm.weight, Shape: torch.Size([768])\n",
      "Parameter Name: encoder.layer.2.output.LayerNorm.bias, Shape: torch.Size([768])\n",
      "Parameter Name: encoder.layer.3.attention.self.query.weight, Shape: torch.Size([768, 768])\n",
      "Parameter Name: encoder.layer.3.attention.self.query.bias, Shape: torch.Size([768])\n",
      "Parameter Name: encoder.layer.3.attention.self.key.weight, Shape: torch.Size([768, 768])\n",
      "Parameter Name: encoder.layer.3.attention.self.key.bias, Shape: torch.Size([768])\n",
      "Parameter Name: encoder.layer.3.attention.self.value.weight, Shape: torch.Size([768, 768])\n",
      "Parameter Name: encoder.layer.3.attention.self.value.bias, Shape: torch.Size([768])\n",
      "Parameter Name: encoder.layer.3.attention.output.dense.weight, Shape: torch.Size([768, 768])\n",
      "Parameter Name: encoder.layer.3.attention.output.dense.bias, Shape: torch.Size([768])\n",
      "Parameter Name: encoder.layer.3.attention.output.LayerNorm.weight, Shape: torch.Size([768])\n",
      "Parameter Name: encoder.layer.3.attention.output.LayerNorm.bias, Shape: torch.Size([768])\n",
      "Parameter Name: encoder.layer.3.intermediate.dense.weight, Shape: torch.Size([3072, 768])\n",
      "Parameter Name: encoder.layer.3.intermediate.dense.bias, Shape: torch.Size([3072])\n",
      "Parameter Name: encoder.layer.3.output.dense.weight, Shape: torch.Size([768, 3072])\n",
      "Parameter Name: encoder.layer.3.output.dense.bias, Shape: torch.Size([768])\n",
      "Parameter Name: encoder.layer.3.output.LayerNorm.weight, Shape: torch.Size([768])\n",
      "Parameter Name: encoder.layer.3.output.LayerNorm.bias, Shape: torch.Size([768])\n",
      "Parameter Name: encoder.layer.4.attention.self.query.weight, Shape: torch.Size([768, 768])\n",
      "Parameter Name: encoder.layer.4.attention.self.query.bias, Shape: torch.Size([768])\n",
      "Parameter Name: encoder.layer.4.attention.self.key.weight, Shape: torch.Size([768, 768])\n",
      "Parameter Name: encoder.layer.4.attention.self.key.bias, Shape: torch.Size([768])\n",
      "Parameter Name: encoder.layer.4.attention.self.value.weight, Shape: torch.Size([768, 768])\n",
      "Parameter Name: encoder.layer.4.attention.self.value.bias, Shape: torch.Size([768])\n",
      "Parameter Name: encoder.layer.4.attention.output.dense.weight, Shape: torch.Size([768, 768])\n",
      "Parameter Name: encoder.layer.4.attention.output.dense.bias, Shape: torch.Size([768])\n",
      "Parameter Name: encoder.layer.4.attention.output.LayerNorm.weight, Shape: torch.Size([768])\n",
      "Parameter Name: encoder.layer.4.attention.output.LayerNorm.bias, Shape: torch.Size([768])\n",
      "Parameter Name: encoder.layer.4.intermediate.dense.weight, Shape: torch.Size([3072, 768])\n",
      "Parameter Name: encoder.layer.4.intermediate.dense.bias, Shape: torch.Size([3072])\n",
      "Parameter Name: encoder.layer.4.output.dense.weight, Shape: torch.Size([768, 3072])\n",
      "Parameter Name: encoder.layer.4.output.dense.bias, Shape: torch.Size([768])\n",
      "Parameter Name: encoder.layer.4.output.LayerNorm.weight, Shape: torch.Size([768])\n",
      "Parameter Name: encoder.layer.4.output.LayerNorm.bias, Shape: torch.Size([768])\n",
      "Parameter Name: encoder.layer.5.attention.self.query.weight, Shape: torch.Size([768, 768])\n",
      "Parameter Name: encoder.layer.5.attention.self.query.bias, Shape: torch.Size([768])\n",
      "Parameter Name: encoder.layer.5.attention.self.key.weight, Shape: torch.Size([768, 768])\n",
      "Parameter Name: encoder.layer.5.attention.self.key.bias, Shape: torch.Size([768])\n",
      "Parameter Name: encoder.layer.5.attention.self.value.weight, Shape: torch.Size([768, 768])\n",
      "Parameter Name: encoder.layer.5.attention.self.value.bias, Shape: torch.Size([768])\n",
      "Parameter Name: encoder.layer.5.attention.output.dense.weight, Shape: torch.Size([768, 768])\n",
      "Parameter Name: encoder.layer.5.attention.output.dense.bias, Shape: torch.Size([768])\n",
      "Parameter Name: encoder.layer.5.attention.output.LayerNorm.weight, Shape: torch.Size([768])\n",
      "Parameter Name: encoder.layer.5.attention.output.LayerNorm.bias, Shape: torch.Size([768])\n",
      "Parameter Name: encoder.layer.5.intermediate.dense.weight, Shape: torch.Size([3072, 768])\n",
      "Parameter Name: encoder.layer.5.intermediate.dense.bias, Shape: torch.Size([3072])\n",
      "Parameter Name: encoder.layer.5.output.dense.weight, Shape: torch.Size([768, 3072])\n",
      "Parameter Name: encoder.layer.5.output.dense.bias, Shape: torch.Size([768])\n",
      "Parameter Name: encoder.layer.5.output.LayerNorm.weight, Shape: torch.Size([768])\n",
      "Parameter Name: encoder.layer.5.output.LayerNorm.bias, Shape: torch.Size([768])\n",
      "Parameter Name: encoder.layer.6.attention.self.query.weight, Shape: torch.Size([768, 768])\n",
      "Parameter Name: encoder.layer.6.attention.self.query.bias, Shape: torch.Size([768])\n",
      "Parameter Name: encoder.layer.6.attention.self.key.weight, Shape: torch.Size([768, 768])\n",
      "Parameter Name: encoder.layer.6.attention.self.key.bias, Shape: torch.Size([768])\n",
      "Parameter Name: encoder.layer.6.attention.self.value.weight, Shape: torch.Size([768, 768])\n",
      "Parameter Name: encoder.layer.6.attention.self.value.bias, Shape: torch.Size([768])\n",
      "Parameter Name: encoder.layer.6.attention.output.dense.weight, Shape: torch.Size([768, 768])\n",
      "Parameter Name: encoder.layer.6.attention.output.dense.bias, Shape: torch.Size([768])\n",
      "Parameter Name: encoder.layer.6.attention.output.LayerNorm.weight, Shape: torch.Size([768])\n",
      "Parameter Name: encoder.layer.6.attention.output.LayerNorm.bias, Shape: torch.Size([768])\n",
      "Parameter Name: encoder.layer.6.intermediate.dense.weight, Shape: torch.Size([3072, 768])\n",
      "Parameter Name: encoder.layer.6.intermediate.dense.bias, Shape: torch.Size([3072])\n",
      "Parameter Name: encoder.layer.6.output.dense.weight, Shape: torch.Size([768, 3072])\n",
      "Parameter Name: encoder.layer.6.output.dense.bias, Shape: torch.Size([768])\n",
      "Parameter Name: encoder.layer.6.output.LayerNorm.weight, Shape: torch.Size([768])\n",
      "Parameter Name: encoder.layer.6.output.LayerNorm.bias, Shape: torch.Size([768])\n",
      "Parameter Name: encoder.layer.7.attention.self.query.weight, Shape: torch.Size([768, 768])\n",
      "Parameter Name: encoder.layer.7.attention.self.query.bias, Shape: torch.Size([768])\n",
      "Parameter Name: encoder.layer.7.attention.self.key.weight, Shape: torch.Size([768, 768])\n",
      "Parameter Name: encoder.layer.7.attention.self.key.bias, Shape: torch.Size([768])\n",
      "Parameter Name: encoder.layer.7.attention.self.value.weight, Shape: torch.Size([768, 768])\n",
      "Parameter Name: encoder.layer.7.attention.self.value.bias, Shape: torch.Size([768])\n",
      "Parameter Name: encoder.layer.7.attention.output.dense.weight, Shape: torch.Size([768, 768])\n",
      "Parameter Name: encoder.layer.7.attention.output.dense.bias, Shape: torch.Size([768])\n",
      "Parameter Name: encoder.layer.7.attention.output.LayerNorm.weight, Shape: torch.Size([768])\n",
      "Parameter Name: encoder.layer.7.attention.output.LayerNorm.bias, Shape: torch.Size([768])\n",
      "Parameter Name: encoder.layer.7.intermediate.dense.weight, Shape: torch.Size([3072, 768])\n",
      "Parameter Name: encoder.layer.7.intermediate.dense.bias, Shape: torch.Size([3072])\n",
      "Parameter Name: encoder.layer.7.output.dense.weight, Shape: torch.Size([768, 3072])\n",
      "Parameter Name: encoder.layer.7.output.dense.bias, Shape: torch.Size([768])\n",
      "Parameter Name: encoder.layer.7.output.LayerNorm.weight, Shape: torch.Size([768])\n",
      "Parameter Name: encoder.layer.7.output.LayerNorm.bias, Shape: torch.Size([768])\n",
      "Parameter Name: encoder.layer.8.attention.self.query.weight, Shape: torch.Size([768, 768])\n",
      "Parameter Name: encoder.layer.8.attention.self.query.bias, Shape: torch.Size([768])\n",
      "Parameter Name: encoder.layer.8.attention.self.key.weight, Shape: torch.Size([768, 768])\n",
      "Parameter Name: encoder.layer.8.attention.self.key.bias, Shape: torch.Size([768])\n",
      "Parameter Name: encoder.layer.8.attention.self.value.weight, Shape: torch.Size([768, 768])\n",
      "Parameter Name: encoder.layer.8.attention.self.value.bias, Shape: torch.Size([768])\n",
      "Parameter Name: encoder.layer.8.attention.output.dense.weight, Shape: torch.Size([768, 768])\n",
      "Parameter Name: encoder.layer.8.attention.output.dense.bias, Shape: torch.Size([768])\n",
      "Parameter Name: encoder.layer.8.attention.output.LayerNorm.weight, Shape: torch.Size([768])\n",
      "Parameter Name: encoder.layer.8.attention.output.LayerNorm.bias, Shape: torch.Size([768])\n",
      "Parameter Name: encoder.layer.8.intermediate.dense.weight, Shape: torch.Size([3072, 768])\n",
      "Parameter Name: encoder.layer.8.intermediate.dense.bias, Shape: torch.Size([3072])\n",
      "Parameter Name: encoder.layer.8.output.dense.weight, Shape: torch.Size([768, 3072])\n",
      "Parameter Name: encoder.layer.8.output.dense.bias, Shape: torch.Size([768])\n",
      "Parameter Name: encoder.layer.8.output.LayerNorm.weight, Shape: torch.Size([768])\n",
      "Parameter Name: encoder.layer.8.output.LayerNorm.bias, Shape: torch.Size([768])\n",
      "Parameter Name: encoder.layer.9.attention.self.query.weight, Shape: torch.Size([768, 768])\n",
      "Parameter Name: encoder.layer.9.attention.self.query.bias, Shape: torch.Size([768])\n",
      "Parameter Name: encoder.layer.9.attention.self.key.weight, Shape: torch.Size([768, 768])\n",
      "Parameter Name: encoder.layer.9.attention.self.key.bias, Shape: torch.Size([768])\n",
      "Parameter Name: encoder.layer.9.attention.self.value.weight, Shape: torch.Size([768, 768])\n",
      "Parameter Name: encoder.layer.9.attention.self.value.bias, Shape: torch.Size([768])\n",
      "Parameter Name: encoder.layer.9.attention.output.dense.weight, Shape: torch.Size([768, 768])\n",
      "Parameter Name: encoder.layer.9.attention.output.dense.bias, Shape: torch.Size([768])\n",
      "Parameter Name: encoder.layer.9.attention.output.LayerNorm.weight, Shape: torch.Size([768])\n",
      "Parameter Name: encoder.layer.9.attention.output.LayerNorm.bias, Shape: torch.Size([768])\n",
      "Parameter Name: encoder.layer.9.intermediate.dense.weight, Shape: torch.Size([3072, 768])\n",
      "Parameter Name: encoder.layer.9.intermediate.dense.bias, Shape: torch.Size([3072])\n",
      "Parameter Name: encoder.layer.9.output.dense.weight, Shape: torch.Size([768, 3072])\n",
      "Parameter Name: encoder.layer.9.output.dense.bias, Shape: torch.Size([768])\n",
      "Parameter Name: encoder.layer.9.output.LayerNorm.weight, Shape: torch.Size([768])\n",
      "Parameter Name: encoder.layer.9.output.LayerNorm.bias, Shape: torch.Size([768])\n",
      "Parameter Name: encoder.layer.10.attention.self.query.weight, Shape: torch.Size([768, 768])\n",
      "Parameter Name: encoder.layer.10.attention.self.query.bias, Shape: torch.Size([768])\n",
      "Parameter Name: encoder.layer.10.attention.self.key.weight, Shape: torch.Size([768, 768])\n",
      "Parameter Name: encoder.layer.10.attention.self.key.bias, Shape: torch.Size([768])\n",
      "Parameter Name: encoder.layer.10.attention.self.value.weight, Shape: torch.Size([768, 768])\n",
      "Parameter Name: encoder.layer.10.attention.self.value.bias, Shape: torch.Size([768])\n",
      "Parameter Name: encoder.layer.10.attention.output.dense.weight, Shape: torch.Size([768, 768])\n",
      "Parameter Name: encoder.layer.10.attention.output.dense.bias, Shape: torch.Size([768])\n",
      "Parameter Name: encoder.layer.10.attention.output.LayerNorm.weight, Shape: torch.Size([768])\n",
      "Parameter Name: encoder.layer.10.attention.output.LayerNorm.bias, Shape: torch.Size([768])\n",
      "Parameter Name: encoder.layer.10.intermediate.dense.weight, Shape: torch.Size([3072, 768])\n",
      "Parameter Name: encoder.layer.10.intermediate.dense.bias, Shape: torch.Size([3072])\n",
      "Parameter Name: encoder.layer.10.output.dense.weight, Shape: torch.Size([768, 3072])\n",
      "Parameter Name: encoder.layer.10.output.dense.bias, Shape: torch.Size([768])\n",
      "Parameter Name: encoder.layer.10.output.LayerNorm.weight, Shape: torch.Size([768])\n",
      "Parameter Name: encoder.layer.10.output.LayerNorm.bias, Shape: torch.Size([768])\n",
      "Parameter Name: encoder.layer.11.attention.self.query.weight, Shape: torch.Size([768, 768])\n",
      "Parameter Name: encoder.layer.11.attention.self.query.bias, Shape: torch.Size([768])\n",
      "Parameter Name: encoder.layer.11.attention.self.key.weight, Shape: torch.Size([768, 768])\n",
      "Parameter Name: encoder.layer.11.attention.self.key.bias, Shape: torch.Size([768])\n",
      "Parameter Name: encoder.layer.11.attention.self.value.weight, Shape: torch.Size([768, 768])\n",
      "Parameter Name: encoder.layer.11.attention.self.value.bias, Shape: torch.Size([768])\n",
      "Parameter Name: encoder.layer.11.attention.output.dense.weight, Shape: torch.Size([768, 768])\n",
      "Parameter Name: encoder.layer.11.attention.output.dense.bias, Shape: torch.Size([768])\n",
      "Parameter Name: encoder.layer.11.attention.output.LayerNorm.weight, Shape: torch.Size([768])\n",
      "Parameter Name: encoder.layer.11.attention.output.LayerNorm.bias, Shape: torch.Size([768])\n",
      "Parameter Name: encoder.layer.11.intermediate.dense.weight, Shape: torch.Size([3072, 768])\n",
      "Parameter Name: encoder.layer.11.intermediate.dense.bias, Shape: torch.Size([3072])\n",
      "Parameter Name: encoder.layer.11.output.dense.weight, Shape: torch.Size([768, 3072])\n",
      "Parameter Name: encoder.layer.11.output.dense.bias, Shape: torch.Size([768])\n",
      "Parameter Name: encoder.layer.11.output.LayerNorm.weight, Shape: torch.Size([768])\n",
      "Parameter Name: encoder.layer.11.output.LayerNorm.bias, Shape: torch.Size([768])\n",
      "Parameter Name: pooler.dense.weight, Shape: torch.Size([768, 768])\n",
      "Parameter Name: pooler.dense.bias, Shape: torch.Size([768])\n"
     ]
    }
   ],
   "source": [
    "import torch\n",
    "from transformers import AutoModel, AutoTokenizer\n",
    "\n",
    "# 指定模型名称\n",
    "model_name = './data/bert-base-uncased'\n",
    "\n",
    "# 读取模型对应的tokenizer\n",
    "tokenizer = AutoTokenizer.from_pretrained(model_name)\n",
    "\n",
    "# 载入模型\n",
    "model = AutoModel.from_pretrained(model_name)\n",
    "\n",
    "# 打印模型所有参数的名称和形状\n",
    "for name, param in model.named_parameters():\n",
    "    print(f\"Parameter Name: {name}, Shape: {param.shape}\")"
   ]
  },
  {
   "cell_type": "markdown",
   "id": "c3a2916afbbd3177",
   "metadata": {},
   "source": [
    " "
   ]
  },
  {
   "cell_type": "code",
   "execution_count": 14,
   "id": "fac13bc3ec5f6e38",
   "metadata": {},
   "outputs": [
    {
     "ename": "SyntaxError",
     "evalue": "invalid character '，' (U+FF0C) (2054479218.py, line 6)",
     "output_type": "error",
     "traceback": [
      "\u001b[0;36m  Cell \u001b[0;32mIn[14], line 6\u001b[0;36m\u001b[0m\n\u001b[0;31m    在本章节中，你将基于上面的BERT代码和AG NEWS数据集进行基于预训练模型BERT的文本分类。你将完善下述代码同时探索多种句子聚合方式对结果的影响，其中句子聚合方式指的是从词嵌入中得到句子嵌入的过程。需要探索的句子聚合方式包括：\u001b[0m\n\u001b[0m         ^\u001b[0m\n\u001b[0;31mSyntaxError\u001b[0m\u001b[0;31m:\u001b[0m invalid character '，' (U+FF0C)\n"
     ]
    }
   ],
   "source": [
    "### **3. 使用预训练模型进行文本分类**\n",
    "可能需要安装transformers包\n",
    "\n",
    "pip install transformers\n",
    "\n",
    "在本章节中，你将基于上面的BERT代码和AG NEWS数据集进行基于预训练模型BERT的文本分类。你将完善下述代码同时探索多种句子聚合方式对结果的影响，其中句子聚合方式指的是从词嵌入中得到句子嵌入的过程。需要探索的句子聚合方式包括：\n",
    "\n",
    "1. 直接使用[CLS]的嵌入表示当做句子嵌入。\n",
    "2. 使用mean-pooling平均一个句子中的所有词元得到嵌入\n",
    "3. 使用注意力机制给每个词元分配一个权重，通过加权求和的方式得到嵌入。你可以使用任意注意力机制计算。"
   ]
  },
  {
   "cell_type": "code",
   "execution_count": null,
   "id": "0287de3d",
   "metadata": {},
   "outputs": [
    {
     "name": "stderr",
     "output_type": "stream",
     "text": [
      "huggingface/tokenizers: The current process just got forked, after parallelism has already been used. Disabling parallelism to avoid deadlocks...\n",
      "To disable this warning, you can either:\n",
      "\t- Avoid using `tokenizers` before the fork if possible\n",
      "\t- Explicitly set the environment variable TOKENIZERS_PARALLELISM=(true | false)\n"
     ]
    },
    {
     "name": "stdout",
     "output_type": "stream",
     "text": [
      "Looking in indexes: https://pypi.tuna.tsinghua.edu.cn/simple\n",
      "Requirement already satisfied: transformers in ./miniconda3/lib/python3.12/site-packages (4.49.0)\n",
      "Requirement already satisfied: filelock in ./miniconda3/lib/python3.12/site-packages (from transformers) (3.17.0)\n",
      "Requirement already satisfied: huggingface-hub<1.0,>=0.26.0 in ./miniconda3/lib/python3.12/site-packages (from transformers) (0.29.3)\n",
      "Requirement already satisfied: numpy>=1.17 in ./miniconda3/lib/python3.12/site-packages (from transformers) (2.2.2)\n",
      "Requirement already satisfied: packaging>=20.0 in ./miniconda3/lib/python3.12/site-packages (from transformers) (24.2)\n",
      "Requirement already satisfied: pyyaml>=5.1 in ./miniconda3/lib/python3.12/site-packages (from transformers) (6.0.2)\n",
      "Requirement already satisfied: regex!=2019.12.17 in ./miniconda3/lib/python3.12/site-packages (from transformers) (2024.11.6)\n",
      "Requirement already satisfied: requests in ./miniconda3/lib/python3.12/site-packages (from transformers) (2.32.3)\n",
      "Requirement already satisfied: tokenizers<0.22,>=0.21 in ./miniconda3/lib/python3.12/site-packages (from transformers) (0.21.1)\n",
      "Requirement already satisfied: safetensors>=0.4.1 in ./miniconda3/lib/python3.12/site-packages (from transformers) (0.5.3)\n",
      "Requirement already satisfied: tqdm>=4.27 in ./miniconda3/lib/python3.12/site-packages (from transformers) (4.67.1)\n",
      "Requirement already satisfied: fsspec>=2023.5.0 in ./miniconda3/lib/python3.12/site-packages (from huggingface-hub<1.0,>=0.26.0->transformers) (2024.12.0)\n",
      "Requirement already satisfied: typing-extensions>=3.7.4.3 in ./miniconda3/lib/python3.12/site-packages (from huggingface-hub<1.0,>=0.26.0->transformers) (4.12.2)\n",
      "Requirement already satisfied: charset-normalizer<4,>=2 in ./miniconda3/lib/python3.12/site-packages (from requests->transformers) (3.3.2)\n",
      "Requirement already satisfied: idna<4,>=2.5 in ./miniconda3/lib/python3.12/site-packages (from requests->transformers) (3.7)\n",
      "Requirement already satisfied: urllib3<3,>=1.21.1 in ./miniconda3/lib/python3.12/site-packages (from requests->transformers) (2.3.0)\n",
      "Requirement already satisfied: certifi>=2017.4.17 in ./miniconda3/lib/python3.12/site-packages (from requests->transformers) (2025.1.31)\n",
      "\u001b[33mWARNING: Running pip as the 'root' user can result in broken permissions and conflicting behaviour with the system package manager, possibly rendering your system unusable. It is recommended to use a virtual environment instead: https://pip.pypa.io/warnings/venv. Use the --root-user-action option if you know what you are doing and want to suppress this warning.\u001b[0m\u001b[33m\n",
      "\u001b[0mNote: you may need to restart the kernel to use updated packages.\n"
     ]
    }
   ],
   "source": [
    "pip install transformers"
   ]
  },
  {
   "cell_type": "code",
   "execution_count": null,
   "id": "995be76f",
   "metadata": {},
   "outputs": [
    {
     "name": "stderr",
     "output_type": "stream",
     "text": [
      "huggingface/tokenizers: The current process just got forked, after parallelism has already been used. Disabling parallelism to avoid deadlocks...\n",
      "To disable this warning, you can either:\n",
      "\t- Avoid using `tokenizers` before the fork if possible\n",
      "\t- Explicitly set the environment variable TOKENIZERS_PARALLELISM=(true | false)\n"
     ]
    },
    {
     "name": "stdout",
     "output_type": "stream",
     "text": [
      "Looking in indexes: https://pypi.tuna.tsinghua.edu.cn/simple\n",
      "Collecting scikit-learn\n",
      "  Downloading https://pypi.tuna.tsinghua.edu.cn/packages/29/7a/8bce8968883e9465de20be15542f4c7e221952441727c4dad24d534c6d99/scikit_learn-1.6.1-cp312-cp312-manylinux_2_17_x86_64.manylinux2014_x86_64.whl (13.1 MB)\n",
      "\u001b[2K     \u001b[90m━━━━━━━━━━━━━━━━━━━━━━━━━━━━━━━━━━━━━━━━\u001b[0m \u001b[32m13.1/13.1 MB\u001b[0m \u001b[31m1.5 MB/s\u001b[0m eta \u001b[36m0:00:00\u001b[0m00:01\u001b[0m00:01\u001b[0m\n",
      "\u001b[?25hRequirement already satisfied: numpy>=1.19.5 in ./miniconda3/lib/python3.12/site-packages (from scikit-learn) (2.2.2)\n",
      "Requirement already satisfied: scipy>=1.6.0 in ./miniconda3/lib/python3.12/site-packages (from scikit-learn) (1.15.2)\n",
      "Collecting joblib>=1.2.0 (from scikit-learn)\n",
      "  Downloading https://pypi.tuna.tsinghua.edu.cn/packages/91/29/df4b9b42f2be0b623cbd5e2140cafcaa2bef0759a00b7b70104dcfe2fb51/joblib-1.4.2-py3-none-any.whl (301 kB)\n",
      "Collecting threadpoolctl>=3.1.0 (from scikit-learn)\n",
      "  Downloading https://pypi.tuna.tsinghua.edu.cn/packages/32/d5/f9a850d79b0851d1d4ef6456097579a9005b31fea68726a4ae5f2d82ddd9/threadpoolctl-3.6.0-py3-none-any.whl (18 kB)\n",
      "Installing collected packages: threadpoolctl, joblib, scikit-learn\n",
      "Successfully installed joblib-1.4.2 scikit-learn-1.6.1 threadpoolctl-3.6.0\n",
      "\u001b[33mWARNING: Running pip as the 'root' user can result in broken permissions and conflicting behaviour with the system package manager, possibly rendering your system unusable. It is recommended to use a virtual environment instead: https://pip.pypa.io/warnings/venv. Use the --root-user-action option if you know what you are doing and want to suppress this warning.\u001b[0m\u001b[33m\n",
      "\u001b[0mNote: you may need to restart the kernel to use updated packages.\n"
     ]
    }
   ],
   "source": [
    "pip install scikit-learn"
   ]
  },
  {
   "cell_type": "markdown",
   "id": "87ebfb827793b56f",
   "metadata": {},
   "source": [
    "代码部分："
   ]
  },
  {
   "cell_type": "code",
   "execution_count": 23,
   "id": "9a4457ccdc5f9c56",
   "metadata": {},
   "outputs": [
    {
     "name": "stderr",
     "output_type": "stream",
     "text": [
      "Epoch 1:   6%|▌         | 17/282 [00:06<01:42,  2.58it/s]\n"
     ]
    },
    {
     "ename": "KeyboardInterrupt",
     "evalue": "",
     "output_type": "error",
     "traceback": [
      "\u001b[0;31m---------------------------------------------------------------------------\u001b[0m",
      "\u001b[0;31mKeyboardInterrupt\u001b[0m                         Traceback (most recent call last)",
      "Cell \u001b[0;32mIn[23], line 103\u001b[0m\n\u001b[1;32m    101\u001b[0m     loss\u001b[38;5;241m.\u001b[39mbackward()\n\u001b[1;32m    102\u001b[0m     optimizer\u001b[38;5;241m.\u001b[39mstep()\n\u001b[0;32m--> 103\u001b[0m     total_loss\u001b[38;5;241m+\u001b[39m\u001b[38;5;241m=\u001b[39mloss\u001b[38;5;241m.\u001b[39mitem()\n\u001b[1;32m    105\u001b[0m \u001b[38;5;28mprint\u001b[39m(\u001b[38;5;124mf\u001b[39m\u001b[38;5;124m\"\u001b[39m\u001b[38;5;124mEpoch \u001b[39m\u001b[38;5;132;01m{\u001b[39;00mepoch\u001b[38;5;241m+\u001b[39m\u001b[38;5;241m1\u001b[39m\u001b[38;5;132;01m}\u001b[39;00m\u001b[38;5;124m, Loss: \u001b[39m\u001b[38;5;132;01m{\u001b[39;00mtotal_loss\u001b[38;5;241m/\u001b[39m\u001b[38;5;28mlen\u001b[39m(train_dataloader)\u001b[38;5;132;01m:\u001b[39;00m\u001b[38;5;124m.4f\u001b[39m\u001b[38;5;132;01m}\u001b[39;00m\u001b[38;5;124m\"\u001b[39m)\n\u001b[1;32m    107\u001b[0m \u001b[38;5;66;03m# **7. 评估模型**\u001b[39;00m\n",
      "\u001b[0;31mKeyboardInterrupt\u001b[0m: "
     ]
    }
   ],
   "source": [
    "import torch\n",
    "import pandas as pd\n",
    "import numpy as np\n",
    "from torch.utils.data import Dataset, DataLoader\n",
    "from transformers import AutoTokenizer, AutoModelForSequenceClassification, AdamW\n",
    "from sklearn.model_selection import train_test_split\n",
    "from sklearn.metrics import accuracy_score\n",
    "from tqdm import tqdm\n",
    "\n",
    "# **1. 加载 AG NEWS 数据集**\n",
    "df = pd.read_csv(\"./data/ag/train.csv\")  # 请替换成你的文件路径\n",
    "df.columns = [\"label\", \"title\", \"description\"]  # CSV 有3列: 标签, 标题, 描述\n",
    "df[\"text\"] = df[\"title\"] + \" \" + df[\"description\"]  # 合并标题和描述作为输入文本\n",
    "df[\"label\"] = df[\"label\"] - 1  # AG NEWS 的标签是 1-4，我们转换成 0-3\n",
    "train_texts, train_labels = df[\"text\"].tolist(), df[\"label\"].tolist()\n",
    "number = int(0.3 * len(train_texts))\n",
    "train_texts, train_labels = train_texts[: number], train_labels[: number]\n",
    "\n",
    "df = pd.read_csv(\"./data/ag/test.csv\")  # 请替换成你的文件路径\n",
    "df.columns = [\"label\", \"title\", \"description\"]  # CSV 有3列: 标签, 标题, 描述\n",
    "df[\"text\"] = df[\"title\"] + \" \" + df[\"description\"]  # 合并标题和描述作为输入文本\n",
    "df[\"label\"] = df[\"label\"] - 1  # AG NEWS 的标签是 1-4，我们转换成 0-3\n",
    "test_texts, test_labels = df[\"text\"].tolist(), df[\"label\"].tolist()\n",
    "\n",
    "# **2. 加载 BERT Tokenizer**\n",
    "model_name = \"./data/bert-base-uncased\"\n",
    "tokenizer = AutoTokenizer.from_pretrained(model_name)\n",
    "\n",
    "# **3. 处理数据**\n",
    "class AGNewsDataset(Dataset):\n",
    "    def __init__(self, texts, labels, tokenizer, max_length=50):\n",
    "        self.texts = texts\n",
    "        self.labels = labels\n",
    "        self.tokenizer = tokenizer\n",
    "        self.max_length = max_length\n",
    "\n",
    "    def __len__(self):\n",
    "        return len(self.texts)\n",
    "\n",
    "    def __getitem__(self, idx):\n",
    "        text = self.texts[idx]\n",
    "        label = self.labels[idx]\n",
    "        encoding = self.tokenizer(\n",
    "            text, truncation=True, padding=\"max_length\", max_length=self.max_length, return_tensors=\"pt\"\n",
    "        )\n",
    "        return {\n",
    "            \"input_ids\": encoding[\"input_ids\"].squeeze(0),\n",
    "            \"attention_mask\": encoding[\"attention_mask\"].squeeze(0),\n",
    "            \"labels\": torch.tensor(label, dtype=torch.long),\n",
    "        } # 此处会自动生成BERT输入所需要的attention_mask\n",
    "        \n",
    "\n",
    "train_dataset = AGNewsDataset(train_texts, train_labels, tokenizer)\n",
    "test_dataset = AGNewsDataset(test_texts, test_labels, tokenizer)\n",
    "\n",
    "train_dataloader = DataLoader(train_dataset, batch_size=128, shuffle=True)\n",
    "test_dataloader = DataLoader(test_dataset, batch_size=128, shuffle=False)\n",
    "\n",
    "# **4. 定义和加载BERT分类模型**\n",
    "#TODO:定义模型并且放到GPU上\n",
    "device = torch.device('cuda' if torch.cuda.is_available() else 'cpu')\n",
    "model = AutoModel.from_pretrained(model_name)\n",
    "model = model.to(device)\n",
    "\n",
    "class BERTClassifier(nn.Module):\n",
    "    def __init__(self, model_name, num_labels):\n",
    "        super(BERTClassifier, self).__init__()\n",
    "        self.bert = AutoModel.from_pretrained(model_name)\n",
    "        self.classifier = torch.nn.Linear(self.bert.config.hidden_size,num_labels)\n",
    "        \n",
    "\n",
    "    def forward(self, input_ids, attention_mask):\n",
    "        logits = self.bert(input_ids = input_ids, attention_mask = attention_mask)\n",
    "        logits = logits.last_hidden_state[:,0,:]\n",
    "        logits = self.classifier(logits)\n",
    "        return logits\n",
    "        \n",
    "model = BERTClassifier(model_name, num_labels=4).to(device)\n",
    "\n",
    "\n",
    "# **5. 设置优化器和损失函数**\n",
    "#TODO: 定义优化器和损失函数\n",
    "criterion = nn.CrossEntropyLoss()\n",
    "optimizer = optim.AdamW(model.parameters(), lr=0.1)\n",
    "# **6. 训练 BERT**\n",
    "EPOCHS = 3\n",
    "\n",
    "for epoch in range(EPOCHS):\n",
    "    model.train()\n",
    "    total_loss = 0\n",
    "    loop = tqdm(train_dataloader, desc=f\"Epoch {epoch+1}\")\n",
    "\n",
    "    for batch in loop:\n",
    "        #TODO: 基于后面需要打印的损失，定义训练过程\n",
    "        input_ids = batch[\"input_ids\"].to(device)\n",
    "        attention_mask = batch[\"attention_mask\"].to(device)\n",
    "        labels = batch[\"labels\"].to(device)\n",
    "        output = model(input_ids, attention_mask)\n",
    "        loss = criterion(output, labels)\n",
    "        optimizer.zero_grad()\n",
    "        loss.backward()\n",
    "        optimizer.step()\n",
    "        total_loss+=loss.item()\n",
    "\n",
    "    print(f\"Epoch {epoch+1}, Loss: {total_loss/len(train_dataloader):.4f}\")\n",
    "\n",
    "    # **7. 评估模型**\n",
    "    model.eval()\n",
    "    preds, true_labels = [], []\n",
    "\n",
    "    with torch.no_grad():\n",
    "        for batch in test_dataloader:\n",
    "            #TODO: 基于后面计算acc需要的true_labels和preds，完善下面测试代码\n",
    "            input_ids = batch[\"input_ids\"].to(device)\n",
    "            attention_mask = batch[\"attention_mask\"].to(device)\n",
    "            true_labels = batch[\"labels\"].to(device)\n",
    "            output = model(input_ids, attention_mask)\n",
    "            preds = torch.argmax(output, dim = -1)\n",
    "            true_labels = true_labels.cpu()\n",
    "            preds = preds.cpu()\n",
    "\n",
    "    acc = accuracy_score(true_labels, preds)\n",
    "    print(f\"Test Accuracy: {acc:.4f}\")"
   ]
  },
  {
   "cell_type": "markdown",
   "id": "f7f940fb28765a01",
   "metadata": {},
   "source": [
    " "
   ]
  },
  {
   "cell_type": "code",
   "execution_count": null,
   "id": "7181ba5e93a8336a",
   "metadata": {},
   "outputs": [],
   "source": [
    "训练笔记：你如果觉得训练速度慢，可以尝试增大batch size，不过注意不要炸显存。\n",
    "\n",
    "思考题1：你觉得以上三种得到句子嵌入的方案，哪种效果会最好，哪种效果会最差？为什么？\n",
    "\n",
    "思考题2：如果一个文档包括多个句子，我们需要获得其中每个句子的嵌入表示。那么，我们应该怎么利用BERT得到每个句子的嵌入？"
   ]
  },
  {
   "cell_type": "markdown",
   "id": "91deae1f06ccff3b",
   "metadata": {},
   "source": []
  }
 ],
 "metadata": {
  "kernelspec": {
   "display_name": "base",
   "language": "python",
   "name": "python3"
  },
  "language_info": {
   "codemirror_mode": {
    "name": "ipython",
    "version": 3
   },
   "file_extension": ".py",
   "mimetype": "text/x-python",
   "name": "python",
   "nbconvert_exporter": "python",
   "pygments_lexer": "ipython3",
   "version": "3.12.9"
  }
 },
 "nbformat": 4,
 "nbformat_minor": 5
}
